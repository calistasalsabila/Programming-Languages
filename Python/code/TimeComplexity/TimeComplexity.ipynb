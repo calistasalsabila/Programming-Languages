{
 "cells": [
  {
   "cell_type": "markdown",
   "id": "fdf12788",
   "metadata": {},
   "source": [
    "##### Time Complexity\n",
    "- Runtime : waktu yang diperlukan untuk menjalankan sebuah fungsi/code pemrograman\n",
    "- Time complexity : Kompleksitas waktu suatu algoritma mengukur jumlah waktu yang dibutuhkan oleh suatu algoritma untuk berjalan sebagai fungsi dari panjang input. Perhatikan bahwa waktu untuk berjalan adalah fungsi dari panjang input dan bukan waktu eksekusi aktual dari mesin tempat algoritma tersebut berjalan.\n"
   ]
  },
  {
   "cell_type": "code",
   "execution_count": 81,
   "id": "37e8cea1",
   "metadata": {},
   "outputs": [],
   "source": [
    "import time"
   ]
  },
  {
   "cell_type": "code",
   "execution_count": 82,
   "id": "6e94e09b",
   "metadata": {},
   "outputs": [],
   "source": [
    "def func1(variable):\n",
    "    total = 0\n",
    "    return total\n",
    "\n",
    "def func2(variable):\n",
    "    total = 0\n",
    "    for item in (variable):\n",
    "        total += item\n",
    "    return total\n",
    "\n",
    "def func3(variable):\n",
    "    total = 0\n",
    "    for item in variable:\n",
    "        for subitem in item:\n",
    "            total += subitem\n",
    "    return total"
   ]
  },
  {
   "cell_type": "code",
   "execution_count": 83,
   "id": "7818ac13",
   "metadata": {},
   "outputs": [],
   "source": [
    "a = [1, 2, 3]\n",
    "b = [[1,2,3],[4,5,6]]"
   ]
  },
  {
   "cell_type": "code",
   "execution_count": 84,
   "id": "bafcb304",
   "metadata": {},
   "outputs": [
    {
     "data": {
      "text/plain": [
       "0"
      ]
     },
     "execution_count": 84,
     "metadata": {},
     "output_type": "execute_result"
    }
   ],
   "source": [
    "func1(a)"
   ]
  },
  {
   "cell_type": "code",
   "execution_count": 85,
   "id": "a99debd6",
   "metadata": {},
   "outputs": [
    {
     "data": {
      "text/plain": [
       "6"
      ]
     },
     "execution_count": 85,
     "metadata": {},
     "output_type": "execute_result"
    }
   ],
   "source": [
    "func2(a)"
   ]
  },
  {
   "cell_type": "code",
   "execution_count": 86,
   "id": "42fb9bf8",
   "metadata": {},
   "outputs": [
    {
     "data": {
      "text/plain": [
       "21"
      ]
     },
     "execution_count": 86,
     "metadata": {},
     "output_type": "execute_result"
    }
   ],
   "source": [
    "func3(b)"
   ]
  },
  {
   "cell_type": "code",
   "execution_count": 87,
   "id": "00e33199",
   "metadata": {},
   "outputs": [
    {
     "name": "stdout",
     "output_type": "stream",
     "text": [
      "Waktu fungsi 1:  []\n"
     ]
    }
   ],
   "source": [
    "time_func1 = []\n",
    "\n",
    "size = [1000000, 5000000, 10000000]\n",
    "\n",
    "for item in size:\n",
    "    a = [1 for _ in range(item)]\n",
    "\n",
    "    start = time.time()\n",
    "    func1(a)\n",
    "    end = time.time()\n",
    "    selisih_waktu = end-start\n",
    "    time_func1.append(selisih_waktu)\n",
    "\n",
    "print(\"Waktu fungsi 1: \", waktu_fungsi1)"
   ]
  },
  {
   "cell_type": "code",
   "execution_count": 88,
   "id": "62b22c70",
   "metadata": {},
   "outputs": [
    {
     "name": "stdout",
     "output_type": "stream",
     "text": [
      "Waktu fungsi 2:  [0.04907631874084473, 0.2526702880859375, 0.46547746658325195]\n"
     ]
    }
   ],
   "source": [
    "time_func2 = []\n",
    "\n",
    "ukuran = [1000000, 5000000, 10000000]\n",
    "\n",
    "for item in ukuran:\n",
    "    a = [1 for _ in range(item)]\n",
    "\n",
    "    start = time.time()\n",
    "    func2(a)\n",
    "    end = time.time()\n",
    "    selisih_waktu = end-start\n",
    "    time_func2.append(selisih_waktu)\n",
    "\n",
    "print(\"Waktu fungsi 2: \", time_func2)"
   ]
  },
  {
   "cell_type": "code",
   "execution_count": 89,
   "id": "9817cc96",
   "metadata": {},
   "outputs": [
    {
     "name": "stdout",
     "output_type": "stream",
     "text": [
      "Waktu fungsi 3:  [0.04363226890563965, 1.5105149745941162, 5.617289304733276]\n"
     ]
    }
   ],
   "source": [
    "time_func3 = []\n",
    "\n",
    "ukuran = [1000, 5000, 10000]\n",
    "\n",
    "for item in ukuran:\n",
    "    a = [[1 for _ in range(item)] for _ in range(item)]\n",
    "\n",
    "    start = time.time()\n",
    "    func3(a)\n",
    "    end = time.time()\n",
    "    selisih_waktu = end-start\n",
    "    time_func3.append(selisih_waktu)\n",
    "\n",
    "print(\"Waktu fungsi 3: \", time_func3)"
   ]
  },
  {
   "cell_type": "code",
   "execution_count": 90,
   "id": "b4a9329b",
   "metadata": {},
   "outputs": [],
   "source": [
    "time_func = {\n",
    "    'time_func1' : time_func1,\n",
    "    'time_func2' : time_func2,\n",
    "    'time_func3' : time_func3\n",
    "}"
   ]
  },
  {
   "cell_type": "code",
   "execution_count": 91,
   "id": "6bd98735",
   "metadata": {},
   "outputs": [],
   "source": [
    "import pandas as pd"
   ]
  },
  {
   "cell_type": "code",
   "execution_count": 92,
   "id": "4357d3c4",
   "metadata": {},
   "outputs": [
    {
     "data": {
      "text/html": [
       "<div>\n",
       "<style scoped>\n",
       "    .dataframe tbody tr th:only-of-type {\n",
       "        vertical-align: middle;\n",
       "    }\n",
       "\n",
       "    .dataframe tbody tr th {\n",
       "        vertical-align: top;\n",
       "    }\n",
       "\n",
       "    .dataframe thead th {\n",
       "        text-align: right;\n",
       "    }\n",
       "</style>\n",
       "<table border=\"1\" class=\"dataframe\">\n",
       "  <thead>\n",
       "    <tr style=\"text-align: right;\">\n",
       "      <th></th>\n",
       "      <th>time_func1</th>\n",
       "      <th>time_func2</th>\n",
       "      <th>time_func3</th>\n",
       "    </tr>\n",
       "  </thead>\n",
       "  <tbody>\n",
       "    <tr>\n",
       "      <th>0</th>\n",
       "      <td>0.0</td>\n",
       "      <td>0.049076</td>\n",
       "      <td>0.043632</td>\n",
       "    </tr>\n",
       "    <tr>\n",
       "      <th>1</th>\n",
       "      <td>0.0</td>\n",
       "      <td>0.252670</td>\n",
       "      <td>1.510515</td>\n",
       "    </tr>\n",
       "    <tr>\n",
       "      <th>2</th>\n",
       "      <td>0.0</td>\n",
       "      <td>0.465477</td>\n",
       "      <td>5.617289</td>\n",
       "    </tr>\n",
       "  </tbody>\n",
       "</table>\n",
       "</div>"
      ],
      "text/plain": [
       "   time_func1  time_func2  time_func3\n",
       "0         0.0    0.049076    0.043632\n",
       "1         0.0    0.252670    1.510515\n",
       "2         0.0    0.465477    5.617289"
      ]
     },
     "execution_count": 92,
     "metadata": {},
     "output_type": "execute_result"
    }
   ],
   "source": [
    "pd.DataFrame(time_func)"
   ]
  },
  {
   "cell_type": "code",
   "execution_count": 93,
   "id": "48883031",
   "metadata": {},
   "outputs": [
    {
     "data": {
      "text/plain": [
       "<Axes: >"
      ]
     },
     "execution_count": 93,
     "metadata": {},
     "output_type": "execute_result"
    },
    {
     "data": {
      "image/png": "[encoded data removed]",
      "text/plain": [
       "<Figure size 640x480 with 1 Axes>"
      ]
     },
     "metadata": {},
     "output_type": "display_data"
    }
   ],
   "source": [
    "pd.DataFrame(time_func).plot()"
   ]
  }
 ],
 "metadata": {
  "kernelspec": {
   "display_name": "ml",
   "language": "python",
   "name": "python3"
  },
  "language_info": {
   "codemirror_mode": {
    "name": "ipython",
    "version": 3
   },
   "file_extension": ".py",
   "mimetype": "text/x-python",
   "name": "python",
   "nbconvert_exporter": "python",
   "pygments_lexer": "ipython3",
   "version": "3.10.13"
  }
 },
 "nbformat": 4,
 "nbformat_minor": 5
}
