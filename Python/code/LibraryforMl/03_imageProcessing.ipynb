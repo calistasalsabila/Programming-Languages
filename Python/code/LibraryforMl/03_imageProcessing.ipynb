{
 "cells": [
  {
   "cell_type": "markdown",
   "id": "5e4a50ac",
   "metadata": {},
   "source": [
    "##### Python Imaging Library (PIL)"
   ]
  },
  {
   "cell_type": "code",
   "execution_count": 95,
   "id": "862ec748",
   "metadata": {},
   "outputs": [],
   "source": [
    "from PIL import Image"
   ]
  },
  {
   "cell_type": "code",
   "execution_count": 96,
   "id": "b0bde495",
   "metadata": {},
   "outputs": [],
   "source": [
    "image = Image.open(\"view_anime.jpg\")"
   ]
  },
  {
   "cell_type": "code",
   "execution_count": 97,
   "id": "de2bae24",
   "metadata": {},
   "outputs": [],
   "source": [
    "image.show() # open the image in the default viewer"
   ]
  },
  {
   "cell_type": "code",
   "execution_count": 98,
   "id": "51cea1d4",
   "metadata": {},
   "outputs": [
    {
     "data": {
      "text/plain": [
       "(736, 920)"
      ]
     },
     "execution_count": 98,
     "metadata": {},
     "output_type": "execute_result"
    }
   ],
   "source": [
    "image.size"
   ]
  },
  {
   "cell_type": "code",
   "execution_count": 99,
   "id": "b3f587bf",
   "metadata": {},
   "outputs": [
    {
     "data": {
      "image/jpeg": "[encoded data removed]",
      "image/png": "[encoded data removed]",
      "text/plain": [
       "<PIL.Image.Image image mode=RGB size=100x100>"
      ]
     },
     "execution_count": 99,
     "metadata": {},
     "output_type": "execute_result"
    }
   ],
   "source": [
    "sizee = (0,0,100,100) # crop the image to a square\n",
    "cropped_image = image.crop(sizee)\n",
    "cropped_image"
   ]
  },
  {
   "cell_type": "code",
   "execution_count": 100,
   "id": "40d730e9",
   "metadata": {},
   "outputs": [],
   "source": [
    "image.convert(\"L\") # convert the image to grayscale ; L ; RGB ; CMYK \n",
    "image.show() # open the image in the default viewer"
   ]
  },
  {
   "cell_type": "code",
   "execution_count": 101,
   "id": "ff616c2a",
   "metadata": {},
   "outputs": [],
   "source": [
    "import numpy as np"
   ]
  },
  {
   "cell_type": "code",
   "execution_count": 102,
   "id": "1a39c6e9",
   "metadata": {},
   "outputs": [],
   "source": [
    "arr_image = np.array(image) # convert the image to a numpy array"
   ]
  },
  {
   "cell_type": "code",
   "execution_count": 103,
   "id": "f020f926",
   "metadata": {},
   "outputs": [],
   "source": [
    "arr_new_image = arr_image*2 # + - dst"
   ]
  },
  {
   "cell_type": "code",
   "execution_count": 104,
   "id": "89fa62dd",
   "metadata": {},
   "outputs": [],
   "source": [
    "arr_new_image = Image.fromarray(arr_new_image) # convert the numpy array back to an image"
   ]
  },
  {
   "cell_type": "code",
   "execution_count": 105,
   "id": "e219de96",
   "metadata": {},
   "outputs": [],
   "source": [
    "arr_new_image.show()"
   ]
  },
  {
   "cell_type": "code",
   "execution_count": 106,
   "id": "03530216",
   "metadata": {},
   "outputs": [],
   "source": [
    "arr_new_image.close() # close the image"
   ]
  },
  {
   "cell_type": "code",
   "execution_count": 107,
   "id": "94eecdf0",
   "metadata": {},
   "outputs": [],
   "source": [
    "image.close() "
   ]
  },
  {
   "cell_type": "code",
   "execution_count": null,
   "id": "03892a6c",
   "metadata": {},
   "outputs": [],
   "source": [
    "arr_new_image = arr_image[::-1] # flip the image upside down ; bisa slicing juga [0:100,0:100] -> crop\n",
    "with Image.fromarray(arr_new_image) as flipped_image:\n",
    "    flipped_image.show() # open the image in the default viewer\n",
    "  "
   ]
  }
 ],
 "metadata": {
  "kernelspec": {
   "display_name": "ml",
   "language": "python",
   "name": "python3"
  },
  "language_info": {
   "codemirror_mode": {
    "name": "ipython",
    "version": 3
   },
   "file_extension": ".py",
   "mimetype": "text/x-python",
   "name": "python",
   "nbconvert_exporter": "python",
   "pygments_lexer": "ipython3",
   "version": "3.10.13"
  }
 },
 "nbformat": 4,
 "nbformat_minor": 5
}
