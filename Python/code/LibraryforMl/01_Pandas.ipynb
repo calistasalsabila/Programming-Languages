{
 "cells": [
  {
   "cell_type": "markdown",
   "id": "183f5ca9",
   "metadata": {},
   "source": [
    "##### Pandas\n",
    "- Python library yang digunakan untuk melakukan manipulasi dan analisis data\n",
    "- Library python open source\n",
    "- Terdapat struktur data dan fungsi yang memudahkan untuk melakukan analisis dan manipulasi data"
   ]
  },
  {
   "cell_type": "code",
   "execution_count": 219,
   "id": "c789e124",
   "metadata": {},
   "outputs": [],
   "source": [
    "import pandas as pd \n",
    "import random "
   ]
  },
  {
   "cell_type": "code",
   "execution_count": 221,
   "id": "869d8bb8",
   "metadata": {},
   "outputs": [],
   "source": [
    "data_score = {\n",
    "    'name' : ['Dokja Kim', 'Han Sooyoung', 'Junghyuk Yoo', 'Hamin Lee', 'Jaemin Lee'],\n",
    "    'Judul komik' : ['Omniscient Reader\\'s Viewpoint', 'Omniscient Reader\\'s Viewpoint', 'Omniscient Reader\\'s Viewpoint', 'Season of Blossom', 'Season of Blossom'],\n",
    "    'Math Score' : [random.randint(60, 100) for _ in range(5)],\n",
    "    'English Score' : [random.randint(60, 100) for _ in range(5)],\n",
    "    'Science Score' : [random.randint(60, 100) for _ in range(5)],\n",
    "}"
   ]
  },
  {
   "cell_type": "code",
   "execution_count": 222,
   "id": "ec99d315",
   "metadata": {},
   "outputs": [
    {
     "data": {
      "text/plain": [
       "{'name': ['Dokja Kim',\n",
       "  'Han Sooyoung',\n",
       "  'Junghyuk Yoo',\n",
       "  'Hamin Lee',\n",
       "  'Jaemin Lee'],\n",
       " 'Judul komik': [\"Omniscient Reader's Viewpoint\",\n",
       "  \"Omniscient Reader's Viewpoint\",\n",
       "  \"Omniscient Reader's Viewpoint\",\n",
       "  'Season of Blossom',\n",
       "  'Season of Blossom'],\n",
       " 'Math Score': [85, 78, 96, 100, 73],\n",
       " 'English Score': [74, 60, 76, 92, 73],\n",
       " 'Science Score': [93, 73, 99, 99, 73]}"
      ]
     },
     "execution_count": 222,
     "metadata": {},
     "output_type": "execute_result"
    }
   ],
   "source": [
    "data_score"
   ]
  },
  {
   "cell_type": "code",
   "execution_count": 223,
   "id": "4850a8be",
   "metadata": {},
   "outputs": [
    {
     "data": {
      "text/html": [
       "<div>\n",
       "<style scoped>\n",
       "    .dataframe tbody tr th:only-of-type {\n",
       "        vertical-align: middle;\n",
       "    }\n",
       "\n",
       "    .dataframe tbody tr th {\n",
       "        vertical-align: top;\n",
       "    }\n",
       "\n",
       "    .dataframe thead th {\n",
       "        text-align: right;\n",
       "    }\n",
       "</style>\n",
       "<table border=\"1\" class=\"dataframe\">\n",
       "  <thead>\n",
       "    <tr style=\"text-align: right;\">\n",
       "      <th></th>\n",
       "      <th>name</th>\n",
       "      <th>Judul komik</th>\n",
       "      <th>Math Score</th>\n",
       "      <th>English Score</th>\n",
       "      <th>Science Score</th>\n",
       "    </tr>\n",
       "  </thead>\n",
       "  <tbody>\n",
       "    <tr>\n",
       "      <th>0</th>\n",
       "      <td>Dokja Kim</td>\n",
       "      <td>Omniscient Reader's Viewpoint</td>\n",
       "      <td>85</td>\n",
       "      <td>74</td>\n",
       "      <td>93</td>\n",
       "    </tr>\n",
       "    <tr>\n",
       "      <th>1</th>\n",
       "      <td>Han Sooyoung</td>\n",
       "      <td>Omniscient Reader's Viewpoint</td>\n",
       "      <td>78</td>\n",
       "      <td>60</td>\n",
       "      <td>73</td>\n",
       "    </tr>\n",
       "    <tr>\n",
       "      <th>2</th>\n",
       "      <td>Junghyuk Yoo</td>\n",
       "      <td>Omniscient Reader's Viewpoint</td>\n",
       "      <td>96</td>\n",
       "      <td>76</td>\n",
       "      <td>99</td>\n",
       "    </tr>\n",
       "    <tr>\n",
       "      <th>3</th>\n",
       "      <td>Hamin Lee</td>\n",
       "      <td>Season of Blossom</td>\n",
       "      <td>100</td>\n",
       "      <td>92</td>\n",
       "      <td>99</td>\n",
       "    </tr>\n",
       "    <tr>\n",
       "      <th>4</th>\n",
       "      <td>Jaemin Lee</td>\n",
       "      <td>Season of Blossom</td>\n",
       "      <td>73</td>\n",
       "      <td>73</td>\n",
       "      <td>73</td>\n",
       "    </tr>\n",
       "  </tbody>\n",
       "</table>\n",
       "</div>"
      ],
      "text/plain": [
       "           name                    Judul komik  Math Score  English Score  \\\n",
       "0     Dokja Kim  Omniscient Reader's Viewpoint          85             74   \n",
       "1  Han Sooyoung  Omniscient Reader's Viewpoint          78             60   \n",
       "2  Junghyuk Yoo  Omniscient Reader's Viewpoint          96             76   \n",
       "3     Hamin Lee              Season of Blossom         100             92   \n",
       "4    Jaemin Lee              Season of Blossom          73             73   \n",
       "\n",
       "   Science Score  \n",
       "0             93  \n",
       "1             73  \n",
       "2             99  \n",
       "3             99  \n",
       "4             73  "
      ]
     },
     "execution_count": 223,
     "metadata": {},
     "output_type": "execute_result"
    }
   ],
   "source": [
    "pd.DataFrame(data_score)"
   ]
  },
  {
   "cell_type": "code",
   "execution_count": 224,
   "id": "ef14678f",
   "metadata": {},
   "outputs": [],
   "source": [
    "# biar ez akses masukkan ke dalam variable\n",
    "df_score = pd.DataFrame(data_score)"
   ]
  },
  {
   "cell_type": "code",
   "execution_count": 225,
   "id": "d504b233",
   "metadata": {},
   "outputs": [
    {
     "name": "stdout",
     "output_type": "stream",
     "text": [
      "<class 'pandas.core.frame.DataFrame'>\n",
      "RangeIndex: 5 entries, 0 to 4\n",
      "Data columns (total 5 columns):\n",
      " #   Column         Non-Null Count  Dtype \n",
      "---  ------         --------------  ----- \n",
      " 0   name           5 non-null      object\n",
      " 1   Judul komik    5 non-null      object\n",
      " 2   Math Score     5 non-null      int64 \n",
      " 3   English Score  5 non-null      int64 \n",
      " 4   Science Score  5 non-null      int64 \n",
      "dtypes: int64(3), object(2)\n",
      "memory usage: 328.0+ bytes\n"
     ]
    }
   ],
   "source": [
    "df_score.info()"
   ]
  },
  {
   "cell_type": "markdown",
   "id": "93df2953",
   "metadata": {},
   "source": [
    "##### Acess Dataframe"
   ]
  },
  {
   "cell_type": "code",
   "execution_count": 226,
   "id": "d01ed384",
   "metadata": {},
   "outputs": [
    {
     "data": {
      "text/html": [
       "<div>\n",
       "<style scoped>\n",
       "    .dataframe tbody tr th:only-of-type {\n",
       "        vertical-align: middle;\n",
       "    }\n",
       "\n",
       "    .dataframe tbody tr th {\n",
       "        vertical-align: top;\n",
       "    }\n",
       "\n",
       "    .dataframe thead th {\n",
       "        text-align: right;\n",
       "    }\n",
       "</style>\n",
       "<table border=\"1\" class=\"dataframe\">\n",
       "  <thead>\n",
       "    <tr style=\"text-align: right;\">\n",
       "      <th></th>\n",
       "      <th>name</th>\n",
       "      <th>Judul komik</th>\n",
       "      <th>Math Score</th>\n",
       "      <th>English Score</th>\n",
       "      <th>Science Score</th>\n",
       "    </tr>\n",
       "  </thead>\n",
       "  <tbody>\n",
       "    <tr>\n",
       "      <th>0</th>\n",
       "      <td>Dokja Kim</td>\n",
       "      <td>Omniscient Reader's Viewpoint</td>\n",
       "      <td>85</td>\n",
       "      <td>74</td>\n",
       "      <td>93</td>\n",
       "    </tr>\n",
       "    <tr>\n",
       "      <th>1</th>\n",
       "      <td>Han Sooyoung</td>\n",
       "      <td>Omniscient Reader's Viewpoint</td>\n",
       "      <td>78</td>\n",
       "      <td>60</td>\n",
       "      <td>73</td>\n",
       "    </tr>\n",
       "    <tr>\n",
       "      <th>2</th>\n",
       "      <td>Junghyuk Yoo</td>\n",
       "      <td>Omniscient Reader's Viewpoint</td>\n",
       "      <td>96</td>\n",
       "      <td>76</td>\n",
       "      <td>99</td>\n",
       "    </tr>\n",
       "    <tr>\n",
       "      <th>3</th>\n",
       "      <td>Hamin Lee</td>\n",
       "      <td>Season of Blossom</td>\n",
       "      <td>100</td>\n",
       "      <td>92</td>\n",
       "      <td>99</td>\n",
       "    </tr>\n",
       "    <tr>\n",
       "      <th>4</th>\n",
       "      <td>Jaemin Lee</td>\n",
       "      <td>Season of Blossom</td>\n",
       "      <td>73</td>\n",
       "      <td>73</td>\n",
       "      <td>73</td>\n",
       "    </tr>\n",
       "  </tbody>\n",
       "</table>\n",
       "</div>"
      ],
      "text/plain": [
       "           name                    Judul komik  Math Score  English Score  \\\n",
       "0     Dokja Kim  Omniscient Reader's Viewpoint          85             74   \n",
       "1  Han Sooyoung  Omniscient Reader's Viewpoint          78             60   \n",
       "2  Junghyuk Yoo  Omniscient Reader's Viewpoint          96             76   \n",
       "3     Hamin Lee              Season of Blossom         100             92   \n",
       "4    Jaemin Lee              Season of Blossom          73             73   \n",
       "\n",
       "   Science Score  \n",
       "0             93  \n",
       "1             73  \n",
       "2             99  \n",
       "3             99  \n",
       "4             73  "
      ]
     },
     "execution_count": 226,
     "metadata": {},
     "output_type": "execute_result"
    }
   ],
   "source": [
    "df_score"
   ]
  },
  {
   "cell_type": "code",
   "execution_count": 227,
   "id": "a3b09431",
   "metadata": {},
   "outputs": [
    {
     "data": {
      "text/plain": [
       "0       Dokja Kim\n",
       "1    Han Sooyoung\n",
       "2    Junghyuk Yoo\n",
       "3       Hamin Lee\n",
       "4      Jaemin Lee\n",
       "Name: name, dtype: object"
      ]
     },
     "execution_count": 227,
     "metadata": {},
     "output_type": "execute_result"
    }
   ],
   "source": [
    "df_score['name']"
   ]
  },
  {
   "cell_type": "code",
   "execution_count": 232,
   "id": "9dfd1cf1",
   "metadata": {},
   "outputs": [
    {
     "data": {
      "text/plain": [
       "0     85\n",
       "1     78\n",
       "2     96\n",
       "3    100\n",
       "4     73\n",
       "Name: Math Score, dtype: int64"
      ]
     },
     "execution_count": 232,
     "metadata": {},
     "output_type": "execute_result"
    }
   ],
   "source": [
    "df_score['Math Score']"
   ]
  },
  {
   "cell_type": "code",
   "execution_count": 235,
   "id": "836b77db",
   "metadata": {},
   "outputs": [
    {
     "data": {
      "text/plain": [
       "name                     Hamin Lee\n",
       "Judul komik      Season of Blossom\n",
       "Math Score                     100\n",
       "English Score                   92\n",
       "Science Score                   99\n",
       "Name: 3, dtype: object"
      ]
     },
     "execution_count": 235,
     "metadata": {},
     "output_type": "execute_result"
    }
   ],
   "source": [
    "df_score.loc[3]"
   ]
  },
  {
   "cell_type": "code",
   "execution_count": null,
   "id": "efb482d5",
   "metadata": {},
   "outputs": [],
   "source": [
    "filter_komik = df_score[\"Judul komik\"] == \"Omniscient Reader's Viewpoint\"\n",
    "#df_score[\"Judul komik\"] == \"Omniscient Reader's Viewpoint\" ; outputnya True/False ; boolean"
   ]
  },
  {
   "cell_type": "code",
   "execution_count": 240,
   "id": "a1632112",
   "metadata": {},
   "outputs": [
    {
     "data": {
      "text/html": [
       "<div>\n",
       "<style scoped>\n",
       "    .dataframe tbody tr th:only-of-type {\n",
       "        vertical-align: middle;\n",
       "    }\n",
       "\n",
       "    .dataframe tbody tr th {\n",
       "        vertical-align: top;\n",
       "    }\n",
       "\n",
       "    .dataframe thead th {\n",
       "        text-align: right;\n",
       "    }\n",
       "</style>\n",
       "<table border=\"1\" class=\"dataframe\">\n",
       "  <thead>\n",
       "    <tr style=\"text-align: right;\">\n",
       "      <th></th>\n",
       "      <th>name</th>\n",
       "      <th>Judul komik</th>\n",
       "      <th>Math Score</th>\n",
       "      <th>English Score</th>\n",
       "      <th>Science Score</th>\n",
       "    </tr>\n",
       "  </thead>\n",
       "  <tbody>\n",
       "    <tr>\n",
       "      <th>0</th>\n",
       "      <td>Dokja Kim</td>\n",
       "      <td>Omniscient Reader's Viewpoint</td>\n",
       "      <td>85</td>\n",
       "      <td>74</td>\n",
       "      <td>93</td>\n",
       "    </tr>\n",
       "    <tr>\n",
       "      <th>1</th>\n",
       "      <td>Han Sooyoung</td>\n",
       "      <td>Omniscient Reader's Viewpoint</td>\n",
       "      <td>78</td>\n",
       "      <td>60</td>\n",
       "      <td>73</td>\n",
       "    </tr>\n",
       "    <tr>\n",
       "      <th>2</th>\n",
       "      <td>Junghyuk Yoo</td>\n",
       "      <td>Omniscient Reader's Viewpoint</td>\n",
       "      <td>96</td>\n",
       "      <td>76</td>\n",
       "      <td>99</td>\n",
       "    </tr>\n",
       "  </tbody>\n",
       "</table>\n",
       "</div>"
      ],
      "text/plain": [
       "           name                    Judul komik  Math Score  English Score  \\\n",
       "0     Dokja Kim  Omniscient Reader's Viewpoint          85             74   \n",
       "1  Han Sooyoung  Omniscient Reader's Viewpoint          78             60   \n",
       "2  Junghyuk Yoo  Omniscient Reader's Viewpoint          96             76   \n",
       "\n",
       "   Science Score  \n",
       "0             93  \n",
       "1             73  \n",
       "2             99  "
      ]
     },
     "execution_count": 240,
     "metadata": {},
     "output_type": "execute_result"
    }
   ],
   "source": [
    "df_score[filter_komik]"
   ]
  },
  {
   "cell_type": "markdown",
   "id": "8bc37013",
   "metadata": {},
   "source": [
    "##### Menggali Informasi dari Dataframe"
   ]
  },
  {
   "cell_type": "code",
   "execution_count": null,
   "id": "4832ba84",
   "metadata": {},
   "outputs": [
    {
     "name": "stdout",
     "output_type": "stream",
     "text": [
      "86.4\n",
      "74.0\n",
      "100\n",
      "73\n"
     ]
    }
   ],
   "source": [
    "print(df_score[\"Math Score\"].mean())\n",
    "print(df_score[\"English Score\"].median())\n",
    "print(df_score[\"Math Score\"].max())\n",
    "print(df_score[\"Math Score\"].min())\n",
    "#dst"
   ]
  },
  {
   "cell_type": "code",
   "execution_count": 245,
   "id": "5568c075",
   "metadata": {},
   "outputs": [
    {
     "data": {
      "text/html": [
       "<div>\n",
       "<style scoped>\n",
       "    .dataframe tbody tr th:only-of-type {\n",
       "        vertical-align: middle;\n",
       "    }\n",
       "\n",
       "    .dataframe tbody tr th {\n",
       "        vertical-align: top;\n",
       "    }\n",
       "\n",
       "    .dataframe thead th {\n",
       "        text-align: right;\n",
       "    }\n",
       "</style>\n",
       "<table border=\"1\" class=\"dataframe\">\n",
       "  <thead>\n",
       "    <tr style=\"text-align: right;\">\n",
       "      <th></th>\n",
       "      <th>Math Score</th>\n",
       "      <th>English Score</th>\n",
       "      <th>Science Score</th>\n",
       "    </tr>\n",
       "  </thead>\n",
       "  <tbody>\n",
       "    <tr>\n",
       "      <th>count</th>\n",
       "      <td>5.000000</td>\n",
       "      <td>5.000000</td>\n",
       "      <td>5.000000</td>\n",
       "    </tr>\n",
       "    <tr>\n",
       "      <th>mean</th>\n",
       "      <td>86.400000</td>\n",
       "      <td>75.000000</td>\n",
       "      <td>87.400000</td>\n",
       "    </tr>\n",
       "    <tr>\n",
       "      <th>std</th>\n",
       "      <td>11.502174</td>\n",
       "      <td>11.401754</td>\n",
       "      <td>13.371612</td>\n",
       "    </tr>\n",
       "    <tr>\n",
       "      <th>min</th>\n",
       "      <td>73.000000</td>\n",
       "      <td>60.000000</td>\n",
       "      <td>73.000000</td>\n",
       "    </tr>\n",
       "    <tr>\n",
       "      <th>25%</th>\n",
       "      <td>78.000000</td>\n",
       "      <td>73.000000</td>\n",
       "      <td>73.000000</td>\n",
       "    </tr>\n",
       "    <tr>\n",
       "      <th>50%</th>\n",
       "      <td>85.000000</td>\n",
       "      <td>74.000000</td>\n",
       "      <td>93.000000</td>\n",
       "    </tr>\n",
       "    <tr>\n",
       "      <th>75%</th>\n",
       "      <td>96.000000</td>\n",
       "      <td>76.000000</td>\n",
       "      <td>99.000000</td>\n",
       "    </tr>\n",
       "    <tr>\n",
       "      <th>max</th>\n",
       "      <td>100.000000</td>\n",
       "      <td>92.000000</td>\n",
       "      <td>99.000000</td>\n",
       "    </tr>\n",
       "  </tbody>\n",
       "</table>\n",
       "</div>"
      ],
      "text/plain": [
       "       Math Score  English Score  Science Score\n",
       "count    5.000000       5.000000       5.000000\n",
       "mean    86.400000      75.000000      87.400000\n",
       "std     11.502174      11.401754      13.371612\n",
       "min     73.000000      60.000000      73.000000\n",
       "25%     78.000000      73.000000      73.000000\n",
       "50%     85.000000      74.000000      93.000000\n",
       "75%     96.000000      76.000000      99.000000\n",
       "max    100.000000      92.000000      99.000000"
      ]
     },
     "execution_count": 245,
     "metadata": {},
     "output_type": "execute_result"
    }
   ],
   "source": [
    "df_score.describe()"
   ]
  },
  {
   "cell_type": "code",
   "execution_count": 247,
   "id": "264e5967",
   "metadata": {},
   "outputs": [
    {
     "data": {
      "text/html": [
       "<div>\n",
       "<style scoped>\n",
       "    .dataframe tbody tr th:only-of-type {\n",
       "        vertical-align: middle;\n",
       "    }\n",
       "\n",
       "    .dataframe tbody tr th {\n",
       "        vertical-align: top;\n",
       "    }\n",
       "\n",
       "    .dataframe thead th {\n",
       "        text-align: right;\n",
       "    }\n",
       "</style>\n",
       "<table border=\"1\" class=\"dataframe\">\n",
       "  <thead>\n",
       "    <tr style=\"text-align: right;\">\n",
       "      <th></th>\n",
       "      <th>name</th>\n",
       "      <th>Judul komik</th>\n",
       "    </tr>\n",
       "  </thead>\n",
       "  <tbody>\n",
       "    <tr>\n",
       "      <th>count</th>\n",
       "      <td>5</td>\n",
       "      <td>5</td>\n",
       "    </tr>\n",
       "    <tr>\n",
       "      <th>unique</th>\n",
       "      <td>5</td>\n",
       "      <td>2</td>\n",
       "    </tr>\n",
       "    <tr>\n",
       "      <th>top</th>\n",
       "      <td>Dokja Kim</td>\n",
       "      <td>Omniscient Reader's Viewpoint</td>\n",
       "    </tr>\n",
       "    <tr>\n",
       "      <th>freq</th>\n",
       "      <td>1</td>\n",
       "      <td>3</td>\n",
       "    </tr>\n",
       "  </tbody>\n",
       "</table>\n",
       "</div>"
      ],
      "text/plain": [
       "             name                    Judul komik\n",
       "count           5                              5\n",
       "unique          5                              2\n",
       "top     Dokja Kim  Omniscient Reader's Viewpoint\n",
       "freq            1                              3"
      ]
     },
     "execution_count": 247,
     "metadata": {},
     "output_type": "execute_result"
    }
   ],
   "source": [
    "df_score.describe(include = 'object')"
   ]
  },
  {
   "cell_type": "code",
   "execution_count": null,
   "id": "cbef2e8f",
   "metadata": {},
   "outputs": [
    {
     "data": {
      "text/html": [
       "<div>\n",
       "<style scoped>\n",
       "    .dataframe tbody tr th:only-of-type {\n",
       "        vertical-align: middle;\n",
       "    }\n",
       "\n",
       "    .dataframe tbody tr th {\n",
       "        vertical-align: top;\n",
       "    }\n",
       "\n",
       "    .dataframe thead th {\n",
       "        text-align: right;\n",
       "    }\n",
       "</style>\n",
       "<table border=\"1\" class=\"dataframe\">\n",
       "  <thead>\n",
       "    <tr style=\"text-align: right;\">\n",
       "      <th></th>\n",
       "      <th>name</th>\n",
       "      <th>Judul komik</th>\n",
       "      <th>Math Score</th>\n",
       "      <th>English Score</th>\n",
       "      <th>Science Score</th>\n",
       "    </tr>\n",
       "  </thead>\n",
       "  <tbody>\n",
       "    <tr>\n",
       "      <th>0</th>\n",
       "      <td>Dokja Kim</td>\n",
       "      <td>Omniscient Reader's Viewpoint</td>\n",
       "      <td>85</td>\n",
       "      <td>74</td>\n",
       "      <td>93</td>\n",
       "    </tr>\n",
       "    <tr>\n",
       "      <th>3</th>\n",
       "      <td>Hamin Lee</td>\n",
       "      <td>Season of Blossom</td>\n",
       "      <td>100</td>\n",
       "      <td>92</td>\n",
       "      <td>99</td>\n",
       "    </tr>\n",
       "    <tr>\n",
       "      <th>1</th>\n",
       "      <td>Han Sooyoung</td>\n",
       "      <td>Omniscient Reader's Viewpoint</td>\n",
       "      <td>78</td>\n",
       "      <td>60</td>\n",
       "      <td>73</td>\n",
       "    </tr>\n",
       "    <tr>\n",
       "      <th>4</th>\n",
       "      <td>Jaemin Lee</td>\n",
       "      <td>Season of Blossom</td>\n",
       "      <td>73</td>\n",
       "      <td>73</td>\n",
       "      <td>73</td>\n",
       "    </tr>\n",
       "    <tr>\n",
       "      <th>2</th>\n",
       "      <td>Junghyuk Yoo</td>\n",
       "      <td>Omniscient Reader's Viewpoint</td>\n",
       "      <td>96</td>\n",
       "      <td>76</td>\n",
       "      <td>99</td>\n",
       "    </tr>\n",
       "  </tbody>\n",
       "</table>\n",
       "</div>"
      ],
      "text/plain": [
       "           name                    Judul komik  Math Score  English Score  \\\n",
       "0     Dokja Kim  Omniscient Reader's Viewpoint          85             74   \n",
       "3     Hamin Lee              Season of Blossom         100             92   \n",
       "1  Han Sooyoung  Omniscient Reader's Viewpoint          78             60   \n",
       "4    Jaemin Lee              Season of Blossom          73             73   \n",
       "2  Junghyuk Yoo  Omniscient Reader's Viewpoint          96             76   \n",
       "\n",
       "   Science Score  \n",
       "0             93  \n",
       "3             99  \n",
       "1             73  \n",
       "4             73  \n",
       "2             99  "
      ]
     },
     "execution_count": 248,
     "metadata": {},
     "output_type": "execute_result"
    }
   ],
   "source": [
    "df_score.sort_values(by=\"name\") # Mengurutkan berdasarkan nama ; dst"
   ]
  },
  {
   "cell_type": "code",
   "execution_count": 249,
   "id": "9abbe534",
   "metadata": {},
   "outputs": [
    {
     "data": {
      "text/html": [
       "<div>\n",
       "<style scoped>\n",
       "    .dataframe tbody tr th:only-of-type {\n",
       "        vertical-align: middle;\n",
       "    }\n",
       "\n",
       "    .dataframe tbody tr th {\n",
       "        vertical-align: top;\n",
       "    }\n",
       "\n",
       "    .dataframe thead th {\n",
       "        text-align: right;\n",
       "    }\n",
       "</style>\n",
       "<table border=\"1\" class=\"dataframe\">\n",
       "  <thead>\n",
       "    <tr style=\"text-align: right;\">\n",
       "      <th></th>\n",
       "      <th>name</th>\n",
       "      <th>Judul komik</th>\n",
       "      <th>Math Score</th>\n",
       "      <th>English Score</th>\n",
       "      <th>Science Score</th>\n",
       "    </tr>\n",
       "  </thead>\n",
       "  <tbody>\n",
       "    <tr>\n",
       "      <th>3</th>\n",
       "      <td>Hamin Lee</td>\n",
       "      <td>Season of Blossom</td>\n",
       "      <td>100</td>\n",
       "      <td>92</td>\n",
       "      <td>99</td>\n",
       "    </tr>\n",
       "    <tr>\n",
       "      <th>2</th>\n",
       "      <td>Junghyuk Yoo</td>\n",
       "      <td>Omniscient Reader's Viewpoint</td>\n",
       "      <td>96</td>\n",
       "      <td>76</td>\n",
       "      <td>99</td>\n",
       "    </tr>\n",
       "    <tr>\n",
       "      <th>0</th>\n",
       "      <td>Dokja Kim</td>\n",
       "      <td>Omniscient Reader's Viewpoint</td>\n",
       "      <td>85</td>\n",
       "      <td>74</td>\n",
       "      <td>93</td>\n",
       "    </tr>\n",
       "    <tr>\n",
       "      <th>1</th>\n",
       "      <td>Han Sooyoung</td>\n",
       "      <td>Omniscient Reader's Viewpoint</td>\n",
       "      <td>78</td>\n",
       "      <td>60</td>\n",
       "      <td>73</td>\n",
       "    </tr>\n",
       "    <tr>\n",
       "      <th>4</th>\n",
       "      <td>Jaemin Lee</td>\n",
       "      <td>Season of Blossom</td>\n",
       "      <td>73</td>\n",
       "      <td>73</td>\n",
       "      <td>73</td>\n",
       "    </tr>\n",
       "  </tbody>\n",
       "</table>\n",
       "</div>"
      ],
      "text/plain": [
       "           name                    Judul komik  Math Score  English Score  \\\n",
       "3     Hamin Lee              Season of Blossom         100             92   \n",
       "2  Junghyuk Yoo  Omniscient Reader's Viewpoint          96             76   \n",
       "0     Dokja Kim  Omniscient Reader's Viewpoint          85             74   \n",
       "1  Han Sooyoung  Omniscient Reader's Viewpoint          78             60   \n",
       "4    Jaemin Lee              Season of Blossom          73             73   \n",
       "\n",
       "   Science Score  \n",
       "3             99  \n",
       "2             99  \n",
       "0             93  \n",
       "1             73  \n",
       "4             73  "
      ]
     },
     "execution_count": 249,
     "metadata": {},
     "output_type": "execute_result"
    }
   ],
   "source": [
    "df_score.sort_values(by=\"Math Score\", ascending=False)\n"
   ]
  },
  {
   "cell_type": "code",
   "execution_count": 250,
   "id": "180b145f",
   "metadata": {},
   "outputs": [
    {
     "data": {
      "text/plain": [
       "Judul komik\n",
       "Omniscient Reader's Viewpoint    3\n",
       "Season of Blossom                2\n",
       "Name: count, dtype: int64"
      ]
     },
     "execution_count": 250,
     "metadata": {},
     "output_type": "execute_result"
    }
   ],
   "source": [
    "df_score.value_counts(\"Judul komik\")"
   ]
  }
 ],
 "metadata": {
  "kernelspec": {
   "display_name": "ml",
   "language": "python",
   "name": "python3"
  },
  "language_info": {
   "codemirror_mode": {
    "name": "ipython",
    "version": 3
   },
   "file_extension": ".py",
   "mimetype": "text/x-python",
   "name": "python",
   "nbconvert_exporter": "python",
   "pygments_lexer": "ipython3",
   "version": "3.10.13"
  }
 },
 "nbformat": 4,
 "nbformat_minor": 5
}
