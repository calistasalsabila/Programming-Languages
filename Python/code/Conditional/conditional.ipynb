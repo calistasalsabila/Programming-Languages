{
 "cells": [
  {
   "cell_type": "markdown",
   "metadata": {},
   "source": [
    "### Conditional"
   ]
  },
  {
   "cell_type": "markdown",
   "metadata": {},
   "source": [
    "- Mengeksekusi kode python berdasarkan kode tertentu \n",
    "- Kondisi ini memiliki nilai boolean true or false \n",
    "- Pernyataan terdiri dari if elif else"
   ]
  },
  {
   "cell_type": "markdown",
   "metadata": {},
   "source": [
    "#### Indentation\n",
    "- spasi kosong di awal kode\n",
    "- menandakan struktur atau hierarki\n",
    "- sama aja seperti {} kalau di pemrograman lain, ex : java\n"
   ]
  },
  {
   "cell_type": "markdown",
   "metadata": {},
   "source": [
    "#### Synatx If"
   ]
  },
  {
   "cell_type": "code",
   "execution_count": null,
   "metadata": {},
   "outputs": [],
   "source": [
    "if kondisi:\n",
    "  kode yang di jalankan jika kondisi adalah true\n",
    "\n",
    "elif kondisi2:\n",
    "  kode yang di jalankan jika kondisi2 bernilai true\n",
    "\n",
    "else kondisi3:\n",
    "  kode yang dijalankan apabila kode 1 dan 2 false"
   ]
  },
  {
   "cell_type": "markdown",
   "metadata": {},
   "source": [
    "#### Conditional Expression"
   ]
  },
  {
   "cell_type": "code",
   "execution_count": 2,
   "metadata": {},
   "outputs": [
    {
     "name": "stdout",
     "output_type": "stream",
     "text": [
      "x lebih besar dari 5\n"
     ]
    }
   ],
   "source": [
    "# blokkode 'if kondisi else' blokkode else\n",
    "x = 10\n",
    "hasil = \"x lebih besar dari 5\" if x > 5 else \"x kurang dari atau sama dengan 5\"\n",
    "print(hasil)\n"
   ]
  }
 ],
 "metadata": {
  "kernelspec": {
   "display_name": "base",
   "language": "python",
   "name": "python3"
  },
  "language_info": {
   "codemirror_mode": {
    "name": "ipython",
    "version": 3
   },
   "file_extension": ".py",
   "mimetype": "text/x-python",
   "name": "python",
   "nbconvert_exporter": "python",
   "pygments_lexer": "ipython3",
   "version": "3.12.3"
  }
 },
 "nbformat": 4,
 "nbformat_minor": 2
}
