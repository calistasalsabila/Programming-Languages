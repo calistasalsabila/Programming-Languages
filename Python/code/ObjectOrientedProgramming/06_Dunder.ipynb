{
 "cells": [
  {
   "cell_type": "markdown",
   "metadata": {},
   "source": [
    "##### Double Underscore Method"
   ]
  },
  {
   "cell_type": "markdown",
   "metadata": {},
   "source": [
    "- Dinamakan dunder method atau magic method \n",
    "- Diapit dengan double underscore\n",
    "- Ex : init, del, str, len, add, dst\n",
    "    - __init__() : method yang langsung di eksekusi saat dibuat instance atau object\n",
    "    - __str__()  : method yang mengembalikan informasi mengenai instance atau object\n",
    "    - __len__()  : method yang akan di eksekusi ketika menggunkana fungsi len()\n",
    "    - __add__()  : method yang digunakan untuk operasi penjumlahan\n",
    "    - __del__()  : method yang akan di eksekusi saat menghapus instance atau object "
   ]
  },
  {
   "cell_type": "code",
   "execution_count": null,
   "metadata": {},
   "outputs": [
    {
     "name": "stdout",
     "output_type": "stream",
     "text": [
      "ORV has been ended\n",
      "DKOS\n",
      "Dokja - DKOS- 28\n",
      "55\n",
      "ORV has been ended\n"
     ]
    }
   ],
   "source": [
    "class ORV:\n",
    "    def __init__(self, name, title, age):\n",
    "        self.name = name\n",
    "        self.title = title\n",
    "        self.age = age\n",
    "\n",
    "    def __str__(self): # agar outputnya bukan angka random\n",
    "        return f\"{self.name} - {self.title}- {self.age}\"\n",
    "    \n",
    "    def __len__(self):\n",
    "        return self.age\n",
    "    \n",
    "    def __add__(self, strength):\n",
    "        return self.age + strength.age\n",
    "\n",
    "    def __del__(self):\n",
    "        print(\"ORV has been ended\") # tidak boleh mengggunakan return\n",
    "    \n",
    "member1 = ORV(\"Dokja\", \"DKOS\", 28)\n",
    "member2 = ORV (\"Jeha\", \"Secrettive Plotter\", 27)\n",
    "print(member1.title)\n",
    "print(member1)\n",
    "len(member1)\n",
    "\n",
    "print(member1 + member2)\n",
    "\n",
    "del member2\n",
    "\n"
   ]
  }
 ],
 "metadata": {
  "kernelspec": {
   "display_name": "base",
   "language": "python",
   "name": "python3"
  },
  "language_info": {
   "codemirror_mode": {
    "name": "ipython",
    "version": 3
   },
   "file_extension": ".py",
   "mimetype": "text/x-python",
   "name": "python",
   "nbconvert_exporter": "python",
   "pygments_lexer": "ipython3",
   "version": "3.12.7"
  }
 },
 "nbformat": 4,
 "nbformat_minor": 2
}
