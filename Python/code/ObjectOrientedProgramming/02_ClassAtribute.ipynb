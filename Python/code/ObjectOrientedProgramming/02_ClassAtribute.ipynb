{
 "cells": [
  {
   "cell_type": "markdown",
   "metadata": {},
   "source": [
    "##### Atribut Kelas\n",
    "- Dalam kelas kita bisa membuat variable\n",
    "- Variable dalam kelas disebut atribut kelas\n",
    "- Nilai atribut dapat di panggil saat kita membuat objek dari kelas\n",
    "- Nilai atribut dapat di ubah melalui objeknya langsung atau dengan menggunakan fungsi"
   ]
  },
  {
   "cell_type": "code",
   "execution_count": null,
   "metadata": {},
   "outputs": [],
   "source": [
    "# Synatx\n",
    "class ClassName:\n",
    "    atr_name = attribute\n",
    "\n",
    "# Memanggil atribute dari objek\n",
    "object = ClassName()\n",
    "object.atr_name"
   ]
  },
  {
   "cell_type": "markdown",
   "metadata": {},
   "source": [
    "- Class Method"
   ]
  },
  {
   "cell_type": "code",
   "execution_count": null,
   "metadata": {},
   "outputs": [],
   "source": [
    "# Syntax\n",
    "class ClassName:\n",
    "    def method_name():\n",
    "        #blok kode\n",
    "\n",
    "# Memanggil method dari object\n",
    "oject = ClassName()\n",
    "object.method_name"
   ]
  },
  {
   "cell_type": "markdown",
   "metadata": {},
   "source": [
    "- Class Attribute"
   ]
  },
  {
   "cell_type": "code",
   "execution_count": null,
   "metadata": {},
   "outputs": [
    {
     "name": "stdout",
     "output_type": "stream",
     "text": [
      "Dokja\n",
      "Readerr\n",
      "28\n"
     ]
    }
   ],
   "source": [
    "class Mc:\n",
    "    nama = \"Dokja\"\n",
    "    title = [\"Reader\", \"DKOS\"]\n",
    "\n",
    "Dj = Mc()\n",
    "print(Dj.nama)\n",
    "\n",
    "Dj.title = \"Readerr\"\n",
    "print(Dj.title)\n",
    "\n",
    "Dj.age = 28\n",
    "print(Dj.age)\n",
    "\n",
    "del Dj.age #delete"
   ]
  },
  {
   "cell_type": "markdown",
   "metadata": {},
   "source": [
    "- Method"
   ]
  },
  {
   "cell_type": "code",
   "execution_count": 20,
   "metadata": {},
   "outputs": [
    {
     "name": "stdout",
     "output_type": "stream",
     "text": [
      "Hai Dokeja\n",
      "['Reader', 'DKOS']\n",
      "['Reader', 'DKOS']\n",
      "Teman jeha adalah Dokja\n"
     ]
    }
   ],
   "source": [
    "class Mc:\n",
    "    nama = \"Dokja\"\n",
    "    title = [\"Reader\", \"DKOS\"]\n",
    "    def dokja(self):\n",
    "        print(\"Hai Dokeja\")\n",
    "        print(self.title) # instance variable\n",
    "        print(Mc.title) # class variable / attribue\n",
    "    \n",
    "    def jeha(self, namaa):\n",
    "        print(f\"Teman jeha adalah {namaa}\")\n",
    "        \n",
    "dj = Mc()\n",
    "dj.dokja()\n",
    "dj.jeha(\"Dokja\") # mengakses method jeha dengan instance variabl"
   ]
  }
 ],
 "metadata": {
  "kernelspec": {
   "display_name": "base",
   "language": "python",
   "name": "python3"
  },
  "language_info": {
   "codemirror_mode": {
    "name": "ipython",
    "version": 3
   },
   "file_extension": ".py",
   "mimetype": "text/x-python",
   "name": "python",
   "nbconvert_exporter": "python",
   "pygments_lexer": "ipython3",
   "version": "3.12.7"
  }
 },
 "nbformat": 4,
 "nbformat_minor": 2
}
