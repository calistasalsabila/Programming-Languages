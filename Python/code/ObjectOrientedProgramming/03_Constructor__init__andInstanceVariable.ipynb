{
 "cells": [
  {
   "cell_type": "markdown",
   "metadata": {},
   "source": [
    "##### Method Constructor __init__()\n",
    "- Fungsi di dalam kelas dinamakan method\n",
    "- Di kelas terdapat metode khusus yang dinamakan constructor\n",
    "- Metode ini memiliki nama khusus yaitu __init__()\n",
    "- Saat membuat objek dari sebuah kelas, secara otomatis method ini akan di panggil ataupun di jalankan"
   ]
  },
  {
   "cell_type": "code",
   "execution_count": null,
   "metadata": {},
   "outputs": [],
   "source": [
    "# Synatx\n",
    "class ClassName:\n",
    "    def __init__(self):\n",
    "        #blok kode yang akan di eksekusi"
   ]
  },
  {
   "cell_type": "markdown",
   "metadata": {},
   "source": [
    "##### Instance Variable\n",
    "- Variable yang di buat di dalam constructor\n",
    "- Di dalam kelas terdapat konvensi yang dinamankan self\n",
    "- Self adalah objek yang di buat dari kelas itu sendiri\n",
    "- Self digunakan dalam constructor __init__() untuk membuat instance variable"
   ]
  },
  {
   "cell_type": "code",
   "execution_count": null,
   "metadata": {},
   "outputs": [
    {
     "name": "stdout",
     "output_type": "stream",
     "text": [
      "Ini adalah method biasa\n"
     ]
    }
   ],
   "source": [
    "# Method init()\n",
    "class Mc:\n",
    "    def info(self):\n",
    "        print(\"Ini adalah method biasa\")\n",
    "dokja = Mc()\n",
    "dokja.info()"
   ]
  },
  {
   "cell_type": "code",
   "execution_count": 4,
   "metadata": {},
   "outputs": [
    {
     "name": "stdout",
     "output_type": "stream",
     "text": [
      "Ini adalah method ngga biasa wkwkwkk\n"
     ]
    }
   ],
   "source": [
    "class Mc:\n",
    "    def __init__(self):\n",
    "        print(\"Ini adalah method ngga biasa wkwkwkk\")\n",
    "dokja = Mc()"
   ]
  },
  {
   "cell_type": "code",
   "execution_count": 13,
   "metadata": {},
   "outputs": [
    {
     "name": "stdout",
     "output_type": "stream",
     "text": [
      "Party dokja adalah Yoo Junghyuk\n",
      "Yoo Junghyuk\n",
      "pet\n"
     ]
    }
   ],
   "source": [
    "# Instance Variable()\n",
    "class Orv:\n",
    "    def __init__(self, jenis):\n",
    "        self.jenis = jenis #instance variable\n",
    "\n",
    "    def party_dokja(self, name):\n",
    "        print(f'Party dokja adalah {name}')\n",
    "        print(name)\n",
    "         \n",
    "Jeha = Orv(\"Human\")\n",
    "Jeha.party_dokja(\"Yoo Junghyuk\")\n",
    "\n",
    "Biyoo = Orv(\"pet\")\n",
    "print(Biyoo.jenis)"
   ]
  },
  {
   "cell_type": "code",
   "execution_count": null,
   "metadata": {},
   "outputs": [
    {
     "name": "stdout",
     "output_type": "stream",
     "text": [
      "X\n",
      "nim = L012X dengan ip 4.0\n"
     ]
    }
   ],
   "source": [
    "class C:\n",
    "    def __init__(self, name):\n",
    "        self.name = name\n",
    "    \n",
    "    def no(self, nim, ip):\n",
    "        print(f'nim = {nim} dengan ip {ip}')\n",
    "    \n",
    "mahasiswa1 = C(\"X\")\n",
    "print(mahasiswa1.name)\n",
    "\n",
    "mahasiswa1.no(\"L012X\", 4.00)\n"
   ]
  },
  {
   "cell_type": "code",
   "execution_count": 27,
   "metadata": {},
   "outputs": [
    {
     "name": "stdout",
     "output_type": "stream",
     "text": [
      "Nama: Dazai\n",
      "Nama: Atsushi\n",
      "Umur: 20\n",
      "umur Dazai adalah 15 tahun dan hasil kuadrat 15 adalah 225\n"
     ]
    }
   ],
   "source": [
    "class Mahasiswa:\n",
    "    def __init__(self, nama, umur=None):  # umur bisa None\n",
    "        self.nama = nama\n",
    "        self.umur = umur\n",
    "\n",
    "    def display(self):\n",
    "        print(f\"Nama: {self.nama}\")\n",
    "        if self.umur is not None:\n",
    "            print(f\"Umur: {self.umur}\")\n",
    "    \n",
    "    def umurkuadrat(self, age, num):\n",
    "        print(f'umur {self.nama} adalah {age} tahun dan hasil kuadrat {num} adalah {age * num}')\n",
    "\n",
    "# Bisa buat objek dengan satu atau dua parameter\n",
    "mhs1 = Mahasiswa(\"Dazai\")\n",
    "mhs2 = Mahasiswa(\"Atsushi\", 20)\n",
    "\n",
    "mhs1.display()\n",
    "mhs2.display()\n",
    "\n",
    "mhs1.umurkuadrat(15,15)\n"
   ]
  }
 ],
 "metadata": {
  "kernelspec": {
   "display_name": "base",
   "language": "python",
   "name": "python3"
  },
  "language_info": {
   "codemirror_mode": {
    "name": "ipython",
    "version": 3
   },
   "file_extension": ".py",
   "mimetype": "text/x-python",
   "name": "python",
   "nbconvert_exporter": "python",
   "pygments_lexer": "ipython3",
   "version": "3.12.7"
  }
 },
 "nbformat": 4,
 "nbformat_minor": 2
}
