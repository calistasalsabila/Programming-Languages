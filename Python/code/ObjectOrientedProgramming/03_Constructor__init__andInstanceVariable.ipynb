{
 "cells": [
  {
   "cell_type": "markdown",
   "metadata": {},
   "source": [
    "##### Method Constructor __init__()\n",
    "- Fungsi di dalam kelas dinamakan method\n",
    "- Di kelas terdapat metode khusus yang dinamakan constructor\n",
    "- Metode ini memiliki nama khusus yaitu __init__()\n",
    "- Saat membuat objek dari sebuah kelas, secara otomatis method ini akan di panggil ataupun di jalankan"
   ]
  },
  {
   "cell_type": "code",
   "execution_count": null,
   "metadata": {},
   "outputs": [],
   "source": [
    "# Synatx\n",
    "class ClassName:\n",
    "    def __init__(self):\n",
    "        #blok kode yang akan di eksekusi"
   ]
  },
  {
   "cell_type": "markdown",
   "metadata": {},
   "source": [
    "##### Instance Variable\n",
    "- Variable yang di buat di dalam constructor\n",
    "- Di dalam kelas terdapat konvensi yang dinamankan self\n",
    "- Self adalah objek yang di buat dari kelas itu sendiri\n",
    "- Self digunakan dalam constructor __init__() untuk membuat instance variable"
   ]
  },
  {
   "cell_type": "code",
   "execution_count": null,
   "metadata": {},
   "outputs": [
    {
     "name": "stdout",
     "output_type": "stream",
     "text": [
      "Ini adalah method biasa\n"
     ]
    }
   ],
   "source": [
    "# Method init()\n",
    "class Mc:\n",
    "    def info(self):\n",
    "        print(\"Ini adalah method biasa\")\n",
    "dokja = Mc()\n",
    "dokja.info()"
   ]
  },
  {
   "cell_type": "code",
   "execution_count": 4,
   "metadata": {},
   "outputs": [
    {
     "name": "stdout",
     "output_type": "stream",
     "text": [
      "Ini adalah method ngga biasa wkwkwkk\n"
     ]
    }
   ],
   "source": [
    "class Mc:\n",
    "    def __init__(self):\n",
    "        print(\"Ini adalah method ngga biasa wkwkwkk\")\n",
    "dokja = Mc()"
   ]
  },
  {
   "cell_type": "code",
   "execution_count": 6,
   "metadata": {},
   "outputs": [
    {
     "name": "stdout",
     "output_type": "stream",
     "text": [
      "Party dokja adalah Yoo Junghyuk\n",
      "Yoo Junghyuk\n"
     ]
    }
   ],
   "source": [
    "# Instance Variable()\n",
    "class Orv:\n",
    "    def party_dokja(self, name):\n",
    "        print(f'Party dokja adalah {name}')\n",
    "        print(name)\n",
    "Jeha = Orv()\n",
    "Jeha.party_dokja(\"Yoo Junghyuk\")"
   ]
  }
 ],
 "metadata": {
  "kernelspec": {
   "display_name": "base",
   "language": "python",
   "name": "python3"
  },
  "language_info": {
   "codemirror_mode": {
    "name": "ipython",
    "version": 3
   },
   "file_extension": ".py",
   "mimetype": "text/x-python",
   "name": "python",
   "nbconvert_exporter": "python",
   "pygments_lexer": "ipython3",
   "version": "3.12.7"
  }
 },
 "nbformat": 4,
 "nbformat_minor": 2
}
