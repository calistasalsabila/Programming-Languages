{
 "cells": [
  {
   "cell_type": "markdown",
   "metadata": {},
   "source": [
    "##### Encapsulation\n"
   ]
  },
  {
   "cell_type": "markdown",
   "metadata": {},
   "source": [
    "- Public variable\n",
    "    - Variable yang sudah pernah di buat sebelumnya saat mmembuat kelas attribute, sifatnya bisa di akses dan diubah dengan mudah\n",
    "- Protected variable\n",
    "    - Sama seprti public variable, tapi hanya bisa digunakan di dalam class / subclass\n",
    "    - Synatx :\n",
    "        - _protected = nilai (class variable)\n",
    "        - self._protected = nilai (instance variable)\n",
    "- Private variable \n",
    "    - Variable yang tidak bisa di akses dan diubah dengan mudah melalui object yang sudah di buat , dan tidak dapat digunakan dalam subclass nya\n",
    "    - Synatx :\n",
    "        - __private = nilai (class variable)\n",
    "        - self.__private = nilai (instance variable)"
   ]
  },
  {
   "cell_type": "code",
   "execution_count": 69,
   "metadata": {},
   "outputs": [
    {
     "name": "stdout",
     "output_type": "stream",
     "text": [
      "Fiksi\n",
      "Fiksi\n",
      "Kim Dokja\n",
      "Sung Jinwoo\n"
     ]
    }
   ],
   "source": [
    "class Mc : \n",
    "    genre = \"Fiksi\" #class variable / attribute\n",
    "    _strenght = \"Over Power\"\n",
    "    __gender = \"male\"\n",
    "\n",
    "    def __init__(self, name, age, mainchar):\n",
    "        self.name = name #instance variable\n",
    "        self._age = age\n",
    "        self.__mainchar = mainchar \n",
    "\n",
    "    def display_name_age(self):\n",
    "        print(f'his name is {self.name} and his age is {self._age} and he is {Mc._strenght}')\n",
    "\n",
    "    def display_private(self):\n",
    "        print(f'ini adalah private variable \"{Mc.__gender}\"')\n",
    "        print(f'ini adalah private variable \"{self.__mainchar}\"')\n",
    "        \n",
    "orv = Mc(\"Kim Dokja\", 28, \"Protagonis\") # + 28 karena ada paarmeter age\n",
    "solev = Mc(\"Sung Jinwoo\", 100, \"Protagonist\") # + 100 karena ada parameter age\n",
    "\n",
    "print(orv.genre)\n",
    "print(solev.genre)\n",
    "\n",
    "print(orv.name)\n",
    "print (solev.name)\n"
   ]
  },
  {
   "cell_type": "code",
   "execution_count": 70,
   "metadata": {},
   "outputs": [
    {
     "name": "stdout",
     "output_type": "stream",
     "text": [
      "Jeha\n"
     ]
    },
    {
     "data": {
      "text/plain": [
       "'!non fiction'"
      ]
     },
     "execution_count": 70,
     "metadata": {},
     "output_type": "execute_result"
    }
   ],
   "source": [
    "# Public Variable\n",
    "orv.genre = \"!non fiction\"\n",
    "orv.genre\n",
    "orv.name\n",
    "orv.name = \"Jeha\"\n",
    "print(orv.name)\n",
    "orv.genre #wkwkwkwkk kalo ga pakai print yang di tampilin cm print last code nya"
   ]
  },
  {
   "cell_type": "code",
   "execution_count": 71,
   "metadata": {},
   "outputs": [
    {
     "name": "stdout",
     "output_type": "stream",
     "text": [
      "his name is Kim Dokja and his age is 28 and he is Over Power\n",
      "None\n",
      "his name is Kim Dokja and his age is 1 and he is Over Power\n",
      "None\n"
     ]
    }
   ],
   "source": [
    "# Protected Variable\n",
    "orv = Mc(\"Kim Dokja\", 28, \"True\")\n",
    "solev = Mc(\"Sung Jinwoo\", 100, \"True\")\n",
    "\n",
    "print(orv.display_name_age())\n",
    "orv._age = 1 # Tidak boleh di ubah atau di akses\n",
    "print(orv.display_name_age()) "
   ]
  },
  {
   "cell_type": "code",
   "execution_count": 72,
   "metadata": {},
   "outputs": [
    {
     "ename": "AttributeError",
     "evalue": "'Mc' object has no attribute '__mainchar'",
     "output_type": "error",
     "traceback": [
      "\u001b[1;31m---------------------------------------------------------------------------\u001b[0m",
      "\u001b[1;31mAttributeError\u001b[0m                            Traceback (most recent call last)",
      "Cell \u001b[1;32mIn[72], line 1\u001b[0m\n\u001b[1;32m----> 1\u001b[0m \u001b[38;5;28mprint\u001b[39m(orv\u001b[38;5;241m.\u001b[39m__mainchar)\n",
      "\u001b[1;31mAttributeError\u001b[0m: 'Mc' object has no attribute '__mainchar'"
     ]
    }
   ],
   "source": [
    "print(orv.__mainchar) # cannt access directly"
   ]
  },
  {
   "cell_type": "code",
   "execution_count": null,
   "metadata": {},
   "outputs": [
    {
     "name": "stdout",
     "output_type": "stream",
     "text": [
      "True\n"
     ]
    }
   ],
   "source": [
    "#bypass private aowkkwkw, jangan deh ga baek :b\n",
    "print(orv._Mc__mainchar)"
   ]
  },
  {
   "cell_type": "code",
   "execution_count": null,
   "metadata": {},
   "outputs": [
    {
     "name": "stdout",
     "output_type": "stream",
     "text": [
      "ini adalah private variable \"male\"\n",
      "ini adalah private variable \"True\"\n"
     ]
    }
   ],
   "source": [
    "orv.display_private()"
   ]
  },
  {
   "cell_type": "code",
   "execution_count": null,
   "metadata": {},
   "outputs": [
    {
     "name": "stdout",
     "output_type": "stream",
     "text": [
      "TopSecret\n"
     ]
    }
   ],
   "source": []
  }
 ],
 "metadata": {
  "kernelspec": {
   "display_name": "base",
   "language": "python",
   "name": "python3"
  },
  "language_info": {
   "codemirror_mode": {
    "name": "ipython",
    "version": 3
   },
   "file_extension": ".py",
   "mimetype": "text/x-python",
   "name": "python",
   "nbconvert_exporter": "python",
   "pygments_lexer": "ipython3",
   "version": "3.12.7"
  }
 },
 "nbformat": 4,
 "nbformat_minor": 2
}
