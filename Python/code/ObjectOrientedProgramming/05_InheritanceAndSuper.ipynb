{
 "cells": [
  {
   "cell_type": "markdown",
   "metadata": {},
   "source": [
    "##### Inheritance dan Super()"
   ]
  },
  {
   "cell_type": "markdown",
   "metadata": {},
   "source": [
    "- Inheritance\n",
    "    - Kelas yang baru di buat dapat mewarisi variable dan method dari kelas sebelumnya (super class)\n",
    "    - Method overriding\n",
    "        - Di kelas baru kita dapat mengubah implementasi method yang ada di kelas super\n",
    "- super()\n",
    "    - Fungsi yang membuat kita mengakses variable atau attribute di dalam method dari super class di dalam kelas baru (ofc yang inheritance)"
   ]
  },
  {
   "cell_type": "code",
   "execution_count": null,
   "metadata": {},
   "outputs": [],
   "source": [
    "# Syntax Inheritance\n",
    "class nameClass (superClass):\n",
    "    pass"
   ]
  },
  {
   "cell_type": "code",
   "execution_count": null,
   "metadata": {},
   "outputs": [
    {
     "name": "stdout",
     "output_type": "stream",
     "text": [
      "This is animal class\n",
      "1\n"
     ]
    },
    {
     "data": {
      "text/plain": [
       "'izikiel'"
      ]
     },
     "execution_count": 17,
     "metadata": {},
     "output_type": "execute_result"
    }
   ],
   "source": [
    "class Animal:\n",
    "    jumlah = 0\n",
    "\n",
    "    def __init__(self, name, age):\n",
    "        self.name = name\n",
    "        self.age = age\n",
    "        Animal.jumlah =+ 1 #output jumlah nanti nambah\n",
    "    \n",
    "    def ket (self):\n",
    "        print(\"This is animal class\")\n",
    "\n",
    "# cat -> subclass ; Animal -> super class\n",
    "class cat (Animal):\n",
    "    pass\n",
    "\n",
    "cat1 = cat(\"izikiel\", 100)\n",
    "cat1.ket()\n",
    "print(cat1.jumlah)\n",
    "cat1.name\n"
   ]
  },
  {
   "cell_type": "code",
   "execution_count": null,
   "metadata": {},
   "outputs": [
    {
     "ename": "NameError",
     "evalue": "name 'cat' is not defined",
     "output_type": "error",
     "traceback": [
      "\u001b[1;31m---------------------------------------------------------------------------\u001b[0m",
      "\u001b[1;31mNameError\u001b[0m                                 Traceback (most recent call last)",
      "Cell \u001b[1;32mIn[4], line 1\u001b[0m\n\u001b[1;32m----> 1\u001b[0m cat1 \u001b[38;5;241m=\u001b[39m cat()\n",
      "\u001b[1;31mNameError\u001b[0m: name 'cat' is not defined"
     ]
    }
   ],
   "source": [
    "cat1 = cat() #ga dda parameternya wkwkwk"
   ]
  },
  {
   "cell_type": "markdown",
   "metadata": {},
   "source": [
    "- Method overriding"
   ]
  },
  {
   "cell_type": "code",
   "execution_count": null,
   "metadata": {},
   "outputs": [
    {
     "name": "stdout",
     "output_type": "stream",
     "text": [
      "ini adalah cat class ea\n"
     ]
    }
   ],
   "source": [
    "class Animal:\n",
    "    jumlah = 0\n",
    "\n",
    "    def __init__(self, name, age):\n",
    "        self.name = name\n",
    "        self.age = age\n",
    "        Animal.jumlah =+ 1 #output jumlah nanti nambah\n",
    "    \n",
    "    def ket (self):\n",
    "        print(\"This is animal class\")\n",
    "\n",
    "# cat -> subclass ; Animal -> super class\n",
    "class cat (Animal):\n",
    "    def ket(self):\n",
    "        print(\"ini adalah cat class ea\")\n",
    "\n",
    "cat1 = cat(\"izikiel\", 100)\n",
    "cat1.ket() #kek nimpa gitu"
   ]
  },
  {
   "cell_type": "markdown",
   "metadata": {},
   "source": [
    "- Built in Function super()"
   ]
  },
  {
   "cell_type": "code",
   "execution_count": 44,
   "metadata": {},
   "outputs": [
    {
     "name": "stdout",
     "output_type": "stream",
     "text": [
      "fanda\n",
      "This is animal class\n"
     ]
    },
    {
     "data": {
      "text/plain": [
       "2"
      ]
     },
     "execution_count": 44,
     "metadata": {},
     "output_type": "execute_result"
    }
   ],
   "source": [
    "class Animal:\n",
    "    jumlah = 0\n",
    "\n",
    "    def __init__(self, name, age):\n",
    "        self.name = name\n",
    "        self.age = age\n",
    "        Animal.jumlah += 1 #output jumlah nanti nambah\n",
    "    \n",
    "    def ket (self):\n",
    "        print(\"This is animal class\")\n",
    "\n",
    "# cat -> subclass ; Animal -> super class\n",
    "class cat (Animal):\n",
    "\n",
    "    def __init__(self, name, age, gender):\n",
    "        super().__init__(name, age)\n",
    "        self.gender = gender\n",
    "\n",
    "\n",
    "    def ket(self):\n",
    "        super().ket()\n",
    "        print(\"ini adalah cat class ea\")\n",
    "    \n",
    "    def jumlah(self):\n",
    "        return super().jumlah\n",
    "        \n",
    "panda = Animal(\"fanda\", 99)\n",
    "cat1 = cat(\"izikiel\", 100, \"male\")\n",
    "\n",
    "print(f'{panda.name}')\n",
    "panda.ket() #ngambil dari parents\n",
    "cat1.gender\n",
    "\n",
    "cat1.jumlah()\n",
    "\n"
   ]
  }
 ],
 "metadata": {
  "kernelspec": {
   "display_name": "base",
   "language": "python",
   "name": "python3"
  },
  "language_info": {
   "codemirror_mode": {
    "name": "ipython",
    "version": 3
   },
   "file_extension": ".py",
   "mimetype": "text/x-python",
   "name": "python",
   "nbconvert_exporter": "python",
   "pygments_lexer": "ipython3",
   "version": "3.12.7"
  }
 },
 "nbformat": 4,
 "nbformat_minor": 2
}
