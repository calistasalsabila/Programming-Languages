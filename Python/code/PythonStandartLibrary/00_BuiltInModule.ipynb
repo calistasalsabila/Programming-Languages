{
 "cells": [
  {
   "cell_type": "markdown",
   "id": "e02951ba",
   "metadata": {},
   "source": [
    "##### Python Standart Library (Built in Modules)\n",
    "- Example :\n",
    "    - Module collection\n",
    "    - Module os\n",
    "    - Module shutil\n",
    "    - Module math\n",
    "    - Module statistic\n",
    "    - Module random\n",
    "    - Module time \n",
    "    - Module datetime\n",
    "    - Module calender\n",
    "    - Module timrit\n",
    "    - Module regular expression\n",
    "    - Module zipfile"
   ]
  }
 ],
 "metadata": {
  "language_info": {
   "name": "python"
  }
 },
 "nbformat": 4,
 "nbformat_minor": 5
}
