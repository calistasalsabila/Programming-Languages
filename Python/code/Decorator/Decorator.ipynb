{
 "cells": [
  {
   "cell_type": "markdown",
   "id": "eb8f4568",
   "metadata": {},
   "source": [
    "##### Decorator\n",
    "- Fungsi khusus yang dapat memodifikasi fungsi lainnya\n",
    "- Decarotor akan menginput sebuah fungsi dan mengembalikan fungsi tersebut di dalam sebuah wrapper\n",
    "- function sebagai object"
   ]
  },
  {
   "cell_type": "code",
   "execution_count": 37,
   "id": "0373a989",
   "metadata": {},
   "outputs": [],
   "source": [
    "# Decarotar level easy wkwk\n",
    "def hi():\n",
    "    print(\"Hi reader\")"
   ]
  },
  {
   "cell_type": "code",
   "execution_count": 38,
   "id": "0d1ffbd9",
   "metadata": {},
   "outputs": [
    {
     "data": {
      "text/plain": [
       "<function __main__.hi()>"
      ]
     },
     "execution_count": 38,
     "metadata": {},
     "output_type": "execute_result"
    }
   ],
   "source": [
    "hi"
   ]
  },
  {
   "cell_type": "code",
   "execution_count": 39,
   "id": "85c4842b",
   "metadata": {},
   "outputs": [],
   "source": [
    "def dec_hi(function):\n",
    "    def wrapper():\n",
    "        print(\"Hi reader its inside decorator\")\n",
    "        function()\n",
    "    return wrapper"
   ]
  },
  {
   "cell_type": "code",
   "execution_count": 40,
   "id": "ffe3fa67",
   "metadata": {},
   "outputs": [
    {
     "data": {
      "text/plain": [
       "<function __main__.dec_hi.<locals>.wrapper()>"
      ]
     },
     "execution_count": 40,
     "metadata": {},
     "output_type": "execute_result"
    }
   ],
   "source": [
    "new_hi = dec_hi(hi)\n",
    "new_hi"
   ]
  },
  {
   "cell_type": "code",
   "execution_count": 41,
   "id": "ff07f412",
   "metadata": {},
   "outputs": [
    {
     "name": "stdout",
     "output_type": "stream",
     "text": [
      "Hi reader its inside decorator\n",
      "Hi reader\n"
     ]
    }
   ],
   "source": [
    "new_hi()"
   ]
  },
  {
   "cell_type": "code",
   "execution_count": 42,
   "id": "df3aab4e",
   "metadata": {},
   "outputs": [],
   "source": [
    "@dec_hi\n",
    "def hi():\n",
    "    print(\"Hi reader\")"
   ]
  },
  {
   "cell_type": "code",
   "execution_count": 43,
   "id": "e1c1f073",
   "metadata": {},
   "outputs": [
    {
     "data": {
      "text/plain": [
       "<function __main__.dec_hi.<locals>.wrapper()>"
      ]
     },
     "execution_count": 43,
     "metadata": {},
     "output_type": "execute_result"
    }
   ],
   "source": [
    "hi"
   ]
  },
  {
   "cell_type": "code",
   "execution_count": 44,
   "id": "8d44f71f",
   "metadata": {},
   "outputs": [],
   "source": [
    "# dec with parameters\n",
    "def mc (name1, name2):\n",
    "    print(f\"Hi {name1} and {name2}\")"
   ]
  },
  {
   "cell_type": "code",
   "execution_count": 45,
   "id": "8cd44f25",
   "metadata": {},
   "outputs": [
    {
     "name": "stdout",
     "output_type": "stream",
     "text": [
      "Hi Dj and Cy\n"
     ]
    }
   ],
   "source": [
    "mc(\"Dj\", \"Cy\")"
   ]
  },
  {
   "cell_type": "code",
   "execution_count": 46,
   "id": "eed458f1",
   "metadata": {},
   "outputs": [],
   "source": [
    "def dec_mc(function):\n",
    "    def wrapper(name1, name2):\n",
    "        print(\"Hi reader its inside decorator\")\n",
    "        function(name1, name2)\n",
    "    return wrapper"
   ]
  },
  {
   "cell_type": "code",
   "execution_count": 47,
   "id": "2247a723",
   "metadata": {},
   "outputs": [],
   "source": [
    "@dec_mc \n",
    "def mc (name1, name2):\n",
    "    print(f\"Hi {name1} and {name2}\")"
   ]
  },
  {
   "cell_type": "code",
   "execution_count": 48,
   "id": "a22648e1",
   "metadata": {},
   "outputs": [
    {
     "name": "stdout",
     "output_type": "stream",
     "text": [
      "Hi reader its inside decorator\n",
      "Hi Na and Cl\n"
     ]
    }
   ],
   "source": [
    "mc(\"Na\", \"Cl\")"
   ]
  },
  {
   "cell_type": "code",
   "execution_count": 49,
   "id": "57731615",
   "metadata": {},
   "outputs": [],
   "source": [
    "# parameters inside decorator\n",
    "def choice(number):\n",
    "    def dec_mc(function):\n",
    "        def wrapper(name1, name2):\n",
    "            if number == 1:\n",
    "                print(\"Kira\")\n",
    "                function(name1, name2)\n",
    "            elif number == 2:\n",
    "                print(\"Kirito\")\n",
    "                function(name1, name2)\n",
    "            elif number == 3:\n",
    "                print(\"Boruto\")\n",
    "                function(name1, name2)\n",
    "            else:\n",
    "                print(\"No mc\")\n",
    "                function(name1, name2)\n",
    "        return wrapper\n",
    "    return dec_mc"
   ]
  },
  {
   "cell_type": "code",
   "execution_count": 50,
   "id": "63279e7f",
   "metadata": {},
   "outputs": [],
   "source": [
    "@choice(1)\n",
    "def mc (name1, name2):\n",
    "    print(f\"Hi {name1} and {name2}\")"
   ]
  },
  {
   "cell_type": "code",
   "execution_count": 51,
   "id": "9af68aed",
   "metadata": {},
   "outputs": [
    {
     "name": "stdout",
     "output_type": "stream",
     "text": [
      "Kira\n",
      "Hi Dokja and Cl\n"
     ]
    }
   ],
   "source": [
    "mc(\"Dokja\", \"Cl\")"
   ]
  },
  {
   "cell_type": "markdown",
   "id": "e620570d",
   "metadata": {},
   "source": [
    "##### Abstarct Class\n",
    "- rancangan dari sebuah class\n",
    "- menggunakan module abc (abstarct base class)"
   ]
  },
  {
   "cell_type": "code",
   "execution_count": 52,
   "id": "eba38d6b",
   "metadata": {},
   "outputs": [],
   "source": [
    "# Abstract Class \n",
    "from abc import ABC, abstractmethod"
   ]
  },
  {
   "cell_type": "code",
   "execution_count": null,
   "id": "dd10b559",
   "metadata": {},
   "outputs": [],
   "source": [
    "class Animal(ABC):\n",
    "    @abstractmethod #wajib di override\n",
    "    def sound(self):\n",
    "        pass"
   ]
  },
  {
   "cell_type": "code",
   "execution_count": null,
   "id": "4610b048",
   "metadata": {},
   "outputs": [],
   "source": [
    "class cat(Animal):\n",
    "    def sound(self):\n",
    "        print(\"Meow\")"
   ]
  },
  {
   "cell_type": "code",
   "execution_count": null,
   "id": "c59ba80e",
   "metadata": {},
   "outputs": [
    {
     "name": "stdout",
     "output_type": "stream",
     "text": [
      "Meow\n"
     ]
    }
   ],
   "source": [
    "hijau = cat()\n",
    "hijau.sound()"
   ]
  }
 ],
 "metadata": {
  "kernelspec": {
   "display_name": "ml",
   "language": "python",
   "name": "python3"
  },
  "language_info": {
   "codemirror_mode": {
    "name": "ipython",
    "version": 3
   },
   "file_extension": ".py",
   "mimetype": "text/x-python",
   "name": "python",
   "nbconvert_exporter": "python",
   "pygments_lexer": "ipython3",
   "version": "3.10.13"
  }
 },
 "nbformat": 4,
 "nbformat_minor": 5
}
