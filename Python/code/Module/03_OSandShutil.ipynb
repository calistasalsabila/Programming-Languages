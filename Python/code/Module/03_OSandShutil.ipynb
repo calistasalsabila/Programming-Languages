{
 "cells": [
  {
   "cell_type": "markdown",
   "id": "8128d792",
   "metadata": {},
   "source": [
    "##### Module OS and Shutil"
   ]
  },
  {
   "cell_type": "markdown",
   "id": "baecbd13",
   "metadata": {},
   "source": [
    "##### Module OS"
   ]
  },
  {
   "cell_type": "code",
   "execution_count": null,
   "id": "e558d008",
   "metadata": {},
   "outputs": [],
   "source": [
    "import os"
   ]
  },
  {
   "cell_type": "code",
   "execution_count": 31,
   "id": "3f630b41",
   "metadata": {},
   "outputs": [
    {
     "data": {
      "text/plain": [
       "'e:\\\\VsCode\\\\GitHub\\\\Programming-Language\\\\Python\\\\code\\\\Module'"
      ]
     },
     "execution_count": 31,
     "metadata": {},
     "output_type": "execute_result"
    }
   ],
   "source": [
    "# Mengetahui direktori saat ini\n",
    "os.getcwd()"
   ]
  },
  {
   "cell_type": "code",
   "execution_count": 32,
   "id": "c6310470",
   "metadata": {},
   "outputs": [
    {
     "data": {
      "text/plain": [
       "['01_Module.ipynb',\n",
       " '02_BuiltInVariable.ipynb',\n",
       " '03_OSandShutil.ipynb',\n",
       " 'BuiltInVariable',\n",
       " 'example.txt',\n",
       " 'hm.py',\n",
       " '__pycache__']"
      ]
     },
     "execution_count": 32,
     "metadata": {},
     "output_type": "execute_result"
    }
   ],
   "source": [
    "# Mengetahui semua file dan folder di dalam direktori\n",
    "os.listdir()"
   ]
  },
  {
   "cell_type": "code",
   "execution_count": 33,
   "id": "eda478e1",
   "metadata": {},
   "outputs": [],
   "source": [
    "# Membuat direktori atau folder baru\n",
    "os.makedirs('test')\n",
    "\n",
    "# Menambah file di direktori\n",
    "with open (\"example.txt\", mode = 'w') as file:\n",
    "    file.write(\"ez\")"
   ]
  },
  {
   "cell_type": "code",
   "execution_count": 34,
   "id": "932d9a85",
   "metadata": {},
   "outputs": [
    {
     "data": {
      "text/plain": [
       "'e:\\\\VsCode\\\\GitHub\\\\Programming-Language\\\\Python\\\\code\\\\Module\\\\test'"
      ]
     },
     "execution_count": 34,
     "metadata": {},
     "output_type": "execute_result"
    }
   ],
   "source": [
    "# Mengubah direktori saat ini\n",
    "os.chdir('test')\n",
    "os.getcwd()"
   ]
  },
  {
   "cell_type": "code",
   "execution_count": 35,
   "id": "828af7fa",
   "metadata": {},
   "outputs": [
    {
     "data": {
      "text/plain": [
       "'e:\\\\'"
      ]
     },
     "execution_count": 35,
     "metadata": {},
     "output_type": "execute_result"
    }
   ],
   "source": [
    "# Mengubah path direktori \n",
    "os.chdir('e:\\\\')\n",
    "os.getcwd()"
   ]
  },
  {
   "cell_type": "code",
   "execution_count": 36,
   "id": "97760118",
   "metadata": {},
   "outputs": [
    {
     "data": {
      "text/plain": [
       "'e:\\\\VsCode\\\\GitHub\\\\Programming-Language\\\\Python\\\\code\\\\Module\\\\test\\\\example.txt'"
      ]
     },
     "execution_count": 36,
     "metadata": {},
     "output_type": "execute_result"
    }
   ],
   "source": [
    "# Membuat direktori baru dalam bentuk string\n",
    "os.chdir('e:\\\\VsCode\\\\GitHub\\\\Programming-Language\\\\Python\\\\code\\\\Module\\\\test')\n",
    "file_name = 'example.txt'\n",
    "os.path.join(os.getcwd(), file_name)"
   ]
  },
  {
   "cell_type": "code",
   "execution_count": 37,
   "id": "013e2f94",
   "metadata": {},
   "outputs": [],
   "source": [
    "# Menghapus direktori atau folder\n",
    "os.chdir('..') # Kembali ke direktori sebelumnya\n",
    "os.rmdir('test')"
   ]
  },
  {
   "cell_type": "markdown",
   "id": "b6d4833b",
   "metadata": {},
   "source": [
    "##### Module Shutil"
   ]
  },
  {
   "cell_type": "code",
   "execution_count": null,
   "id": "851c3342",
   "metadata": {},
   "outputs": [],
   "source": [
    "import shutil"
   ]
  },
  {
   "cell_type": "code",
   "execution_count": null,
   "id": "34ef49c6",
   "metadata": {},
   "outputs": [],
   "source": [
    "# Menyalin atau mengcopy file\n",
    "shutil.copyfile('nama_file', 'path')"
   ]
  },
  {
   "cell_type": "code",
   "execution_count": null,
   "id": "45f7a421",
   "metadata": {},
   "outputs": [],
   "source": [
    "# Memindahkan File\n",
    "shutil.move('path_sebelumnya', 'path_sesudahnya')"
   ]
  },
  {
   "cell_type": "code",
   "execution_count": null,
   "id": "faa21ec0",
   "metadata": {},
   "outputs": [],
   "source": [
    "# Menyalin atau mengcopy folder dan isinya\n",
    "shutil.copytree('source_path', 'destination_path')"
   ]
  },
  {
   "cell_type": "code",
   "execution_count": null,
   "id": "ad3f1705",
   "metadata": {},
   "outputs": [],
   "source": [
    "# Menghapus folder dan isinya\n",
    "shutil.rmtree('nama_folder')"
   ]
  },
  {
   "cell_type": "markdown",
   "id": "775ee989",
   "metadata": {},
   "source": [
    "##### Fungsi os.walk()"
   ]
  },
  {
   "cell_type": "code",
   "execution_count": 38,
   "id": "dd1bc759",
   "metadata": {},
   "outputs": [
    {
     "name": "stdout",
     "output_type": "stream",
     "text": [
      "Help on function walk in module os:\n",
      "\n",
      "walk(top, topdown=True, onerror=None, followlinks=False)\n",
      "    Directory tree generator.\n",
      "\n",
      "    For each directory in the directory tree rooted at top (including top\n",
      "    itself, but excluding '.' and '..'), yields a 3-tuple\n",
      "\n",
      "        dirpath, dirnames, filenames\n",
      "\n",
      "    dirpath is a string, the path to the directory.  dirnames is a list of\n",
      "    the names of the subdirectories in dirpath (including symlinks to directories,\n",
      "    and excluding '.' and '..').\n",
      "    filenames is a list of the names of the non-directory files in dirpath.\n",
      "    Note that the names in the lists are just names, with no path components.\n",
      "    To get a full path (which begins with top) to a file or directory in\n",
      "    dirpath, do os.path.join(dirpath, name).\n",
      "\n",
      "    If optional arg 'topdown' is true or not specified, the triple for a\n",
      "    directory is generated before the triples for any of its subdirectories\n",
      "    (directories are generated top down).  If topdown is false, the triple\n",
      "    for a directory is generated after the triples for all of its\n",
      "    subdirectories (directories are generated bottom up).\n",
      "\n",
      "    When topdown is true, the caller can modify the dirnames list in-place\n",
      "    (e.g., via del or slice assignment), and walk will only recurse into the\n",
      "    subdirectories whose names remain in dirnames; this can be used to prune the\n",
      "    search, or to impose a specific order of visiting.  Modifying dirnames when\n",
      "    topdown is false has no effect on the behavior of os.walk(), since the\n",
      "    directories in dirnames have already been generated by the time dirnames\n",
      "    itself is generated. No matter the value of topdown, the list of\n",
      "    subdirectories is retrieved before the tuples for the directory and its\n",
      "    subdirectories are generated.\n",
      "\n",
      "    By default errors from the os.scandir() call are ignored.  If\n",
      "    optional arg 'onerror' is specified, it should be a function; it\n",
      "    will be called with one argument, an OSError instance.  It can\n",
      "    report the error to continue with the walk, or raise the exception\n",
      "    to abort the walk.  Note that the filename is available as the\n",
      "    filename attribute of the exception object.\n",
      "\n",
      "    By default, os.walk does not follow symbolic links to subdirectories on\n",
      "    systems that support them.  In order to get this functionality, set the\n",
      "    optional argument 'followlinks' to true.\n",
      "\n",
      "    Caution:  if you pass a relative pathname for top, don't change the\n",
      "    current working directory between resumptions of walk.  walk never\n",
      "    changes the current directory, and assumes that the client doesn't\n",
      "    either.\n",
      "\n",
      "    Example:\n",
      "\n",
      "    import os\n",
      "    from os.path import join, getsize\n",
      "    for root, dirs, files in os.walk('python/Lib/email'):\n",
      "        print(root, \"consumes \")\n",
      "        print(sum(getsize(join(root, name)) for name in files), end=\" \")\n",
      "        print(\"bytes in\", len(files), \"non-directory files\")\n",
      "        if 'CVS' in dirs:\n",
      "            dirs.remove('CVS')  # don't visit CVS directories\n",
      "\n"
     ]
    }
   ],
   "source": [
    "help(os.walk)"
   ]
  },
  {
   "cell_type": "code",
   "execution_count": 51,
   "id": "865e54ee",
   "metadata": {},
   "outputs": [
    {
     "name": "stdout",
     "output_type": "stream",
     "text": [
      "e:\\VsCode\\GitHub\\Programming-Language\\Python\\code\\Module\n",
      "---------\n",
      "Direktorinya : .\n",
      "Nama direktori : ['BuiltInVariable', '__pycache__']\n",
      "Nama file : ['01_Module.ipynb', '02_BuiltInVariable.ipynb', '03_OSandShutil.ipynb', 'example.txt', 'hm.py']\n",
      "---------\n",
      "Direktorinya : .\\BuiltInVariable\n",
      "Nama direktori : ['__pycache__']\n",
      "Nama file : ['a.py', 'b.py']\n",
      "---------\n",
      "Direktorinya : .\\BuiltInVariable\\__pycache__\n",
      "Nama direktori : []\n",
      "Nama file : ['b.cpython-312.pyc']\n",
      "---------\n",
      "Direktorinya : .\\__pycache__\n",
      "Nama direktori : []\n",
      "Nama file : ['hm.cpython-312.pyc']\n"
     ]
    }
   ],
   "source": [
    "print(os.getcwd())  # e:\\VsCode\\GitHub\\Programming-Language\\Python\\code\\Module\n",
    "\n",
    "for dirpath, dirnames, filenames in os.walk('.'):\n",
    "    print(\"---------\")\n",
    "    print(f'Direktorinya : {dirpath}')\n",
    "    print(f'Nama direktori : {dirnames}')\n",
    "    print(f'Nama file : {filenames}')\n"
   ]
  },
  {
   "cell_type": "code",
   "execution_count": 55,
   "id": "7ecfc989",
   "metadata": {},
   "outputs": [
    {
     "name": "stdout",
     "output_type": "stream",
     "text": [
      "True\n"
     ]
    },
    {
     "data": {
      "text/plain": [
       "'e:\\\\VsCode\\\\GitHub\\\\Programming-Language\\\\Python\\\\code\\\\Module\\\\.\\\\BuiltInVariable'"
      ]
     },
     "execution_count": 55,
     "metadata": {},
     "output_type": "execute_result"
    }
   ],
   "source": [
    "folder_target = str()\n",
    "for dirpath, dirnames, filenames in os.walk('.'):\n",
    "    if 'a.py' in filenames:\n",
    "        folder_target = os.path.join(os.getcwd(), dirpath)\n",
    "        print(\"True\")\n",
    "folder_target\n"
   ]
  }
 ],
 "metadata": {
  "kernelspec": {
   "display_name": "base",
   "language": "python",
   "name": "python3"
  },
  "language_info": {
   "codemirror_mode": {
    "name": "ipython",
    "version": 3
   },
   "file_extension": ".py",
   "mimetype": "text/x-python",
   "name": "python",
   "nbconvert_exporter": "python",
   "pygments_lexer": "ipython3",
   "version": "3.12.3"
  }
 },
 "nbformat": 4,
 "nbformat_minor": 5
}
