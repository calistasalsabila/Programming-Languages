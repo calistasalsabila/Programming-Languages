{
 "cells": [
  {
   "cell_type": "markdown",
   "id": "58ff2d59",
   "metadata": {},
   "source": [
    "##### Reguler Expression"
   ]
  },
  {
   "cell_type": "code",
   "execution_count": 754,
   "id": "adb3857c",
   "metadata": {},
   "outputs": [],
   "source": [
    "import regex\n",
    "# atau import re"
   ]
  },
  {
   "cell_type": "code",
   "execution_count": 755,
   "id": "23e5a343",
   "metadata": {},
   "outputs": [
    {
     "data": {
      "text/plain": [
       "True"
      ]
     },
     "execution_count": 755,
     "metadata": {},
     "output_type": "execute_result"
    }
   ],
   "source": [
    "\"7\" in \"I like number 7\""
   ]
  },
  {
   "cell_type": "code",
   "execution_count": 756,
   "id": "02544f7c",
   "metadata": {},
   "outputs": [
    {
     "data": {
      "text/plain": [
       "True"
      ]
     },
     "execution_count": 756,
     "metadata": {},
     "output_type": "execute_result"
    }
   ],
   "source": [
    "pattern = \"7\"\n",
    "re_string = \"7 is my favorite number huahahhaa\"\n",
    "\n",
    "pattern in re_string"
   ]
  },
  {
   "cell_type": "code",
   "execution_count": 757,
   "id": "a63a7cb9",
   "metadata": {},
   "outputs": [],
   "source": [
    "import re\n",
    "pattern = \"7\"\n",
    "re_string = \"7 is my favorite number huahahhaa\"\n",
    "hasil_re = re.search(pattern, re_string) #(pattern, string, flags=0)\n"
   ]
  },
  {
   "cell_type": "code",
   "execution_count": 758,
   "id": "577eb4eb",
   "metadata": {},
   "outputs": [
    {
     "data": {
      "text/plain": [
       "'7'"
      ]
     },
     "execution_count": 758,
     "metadata": {},
     "output_type": "execute_result"
    }
   ],
   "source": [
    "hasil_re.group()"
   ]
  },
  {
   "cell_type": "code",
   "execution_count": 759,
   "id": "631af55f",
   "metadata": {},
   "outputs": [
    {
     "data": {
      "text/plain": [
       "(0, 1)"
      ]
     },
     "execution_count": 759,
     "metadata": {},
     "output_type": "execute_result"
    }
   ],
   "source": [
    "hasil_re.span() # hasil_re.start() -> outputnya 0 ; hasil_re.end() -> outputnya 1"
   ]
  },
  {
   "cell_type": "code",
   "execution_count": 760,
   "id": "26085177",
   "metadata": {},
   "outputs": [
    {
     "data": {
      "text/plain": [
       "['1864']"
      ]
     },
     "execution_count": 760,
     "metadata": {},
     "output_type": "execute_result"
    }
   ],
   "source": [
    "pattern1 = \"1864\"\n",
    "re1_string = \"Jeha regressed 1864 times\"\n",
    "re.findall(pattern1, re1_string)"
   ]
  },
  {
   "cell_type": "code",
   "execution_count": 761,
   "id": "eabf1ad8",
   "metadata": {},
   "outputs": [
    {
     "data": {
      "text/plain": [
       "['1864', '1863']"
      ]
     },
     "execution_count": 761,
     "metadata": {},
     "output_type": "execute_result"
    }
   ],
   "source": [
    "pattern1 = \"\\d\\d\\d\\d\" # character class\n",
    "re1_string = \"Jeha regressed 1864 times and found oldest dream in 1863\"\n",
    "re.findall(pattern1, re1_string)"
   ]
  },
  {
   "cell_type": "code",
   "execution_count": 762,
   "id": "f755979f",
   "metadata": {},
   "outputs": [
    {
     "name": "stdout",
     "output_type": "stream",
     "text": [
      "apa \n",
      "huh\n"
     ]
    }
   ],
   "source": [
    "print(\"apa \\nhuh\")"
   ]
  },
  {
   "cell_type": "code",
   "execution_count": 763,
   "id": "0fc28e6e",
   "metadata": {},
   "outputs": [
    {
     "name": "stdout",
     "output_type": "stream",
     "text": [
      "\\\\\n",
      "['\\\\']\n"
     ]
    }
   ],
   "source": [
    "import re\n",
    "print(r\"\\\\\")\n",
    "pattern2 = r\"\\\\\"\n",
    "re_string2 = \"tis is exempel of eskep char = \\\\\"\n",
    "print(re.findall(pattern2, re_string2))"
   ]
  },
  {
   "cell_type": "code",
   "execution_count": 764,
   "id": "690d3b58",
   "metadata": {},
   "outputs": [
    {
     "data": {
      "text/plain": [
       "['1864', '1863']"
      ]
     },
     "execution_count": 764,
     "metadata": {},
     "output_type": "execute_result"
    }
   ],
   "source": [
    "# quantifiers\n",
    "pattern1 = \"\\d{4}\" # atau {start, stop}\n",
    "re1_string = \"Jeha regressed 1864 times and found oldest dream in 1863\"\n",
    "re.findall(pattern1, re1_string)"
   ]
  },
  {
   "cell_type": "code",
   "execution_count": 765,
   "id": "f353dcf4",
   "metadata": {},
   "outputs": [
    {
     "data": {
      "text/plain": [
       "['boboiboy']"
      ]
     },
     "execution_count": 765,
     "metadata": {},
     "output_type": "execute_result"
    }
   ],
   "source": [
    "pattern = \"^boboiboy\" #^ mencocokkan dimulai dengan karakter sebelumnya\n",
    "re_string = \"boboiboy is my favorite character in boboiboy HAHAHAH\"\n",
    "re.findall(pattern, re_string)"
   ]
  },
  {
   "cell_type": "code",
   "execution_count": 766,
   "id": "c66ec89f",
   "metadata": {},
   "outputs": [
    {
     "name": "stdout",
     "output_type": "stream",
     "text": [
      "['123']\n",
      "['999']\n",
      "['D4']\n",
      "[]\n"
     ]
    }
   ],
   "source": [
    "pattern = \"\\w\\d+\"\n",
    "re_string = [\"123\", \"999\", \"AD4\", \"ADD\"] \n",
    "\n",
    "for item in re_string:\n",
    "    print(re.findall(pattern, item))"
   ]
  },
  {
   "cell_type": "code",
   "execution_count": 767,
   "id": "5c2bc00d",
   "metadata": {},
   "outputs": [
    {
     "data": {
      "text/plain": [
       "'Hi whats your name My name is Jeha'"
      ]
     },
     "execution_count": 767,
     "metadata": {},
     "output_type": "execute_result"
    }
   ],
   "source": [
    "pattern = r\"[^,'?]\"\n",
    "re_string = \"Hi, what's your name? My name is Jeha\"\n",
    "hasil_re = re.findall(pattern, re_string)\n",
    "\n",
    "''.join(hasil_re) # join untuk menggabungkan list menjadi string\n"
   ]
  },
  {
   "cell_type": "code",
   "execution_count": 768,
   "id": "9180b01a",
   "metadata": {},
   "outputs": [
    {
     "data": {
      "text/plain": [
       "'DKJ KM'"
      ]
     },
     "execution_count": 768,
     "metadata": {},
     "output_type": "execute_result"
    }
   ],
   "source": [
    "pattern = r\"[a-z A-Z]\"\n",
    "re_string = \"D0KJ4 K0M4\"\n",
    "hasil_re = re.findall(pattern, re_string)\n",
    "''.join(hasil_re) # join untuk menggabungkan list menjadi string"
   ]
  },
  {
   "cell_type": "code",
   "execution_count": 769,
   "id": "fe232642",
   "metadata": {},
   "outputs": [
    {
     "data": {
      "text/plain": [
       "['regressed 1864 ', ' 1863']"
      ]
     },
     "execution_count": 769,
     "metadata": {},
     "output_type": "execute_result"
    }
   ],
   "source": [
    "pattern = r\"regressed\\s\\d\\d\\d\\d | \\d\\d\\d\\d\"\n",
    "re_string = \"Jeha regressed 1864 times and found oldest dream in 1863\"\n",
    "re.findall(pattern, re_string)"
   ]
  },
  {
   "cell_type": "code",
   "execution_count": 770,
   "id": "e5f7f32e",
   "metadata": {},
   "outputs": [
    {
     "name": "stdout",
     "output_type": "stream",
     "text": [
      "<re.Match object; span=(5, 19), match='regressed 1864'>\n"
     ]
    }
   ],
   "source": [
    "# Grouping\n",
    "pattern = r\"regressed\\s(\\d\\d\\d\\d)| (\\d\\d\\d\\d)\"\n",
    "re_string = \"Jeha regressed 1864 times and found oldest dream in 1863\"\n",
    "hasil_re = re.search(pattern, re_string)\n",
    "\n",
    "print(hasil_re)"
   ]
  },
  {
   "cell_type": "code",
   "execution_count": 771,
   "id": "b3f6bbd9",
   "metadata": {},
   "outputs": [
    {
     "data": {
      "text/plain": [
       "'1864'"
      ]
     },
     "execution_count": 771,
     "metadata": {},
     "output_type": "execute_result"
    }
   ],
   "source": [
    "hasil_re.group(1) # group 0 adalah keseluruhan string yang dicocokkan"
   ]
  },
  {
   "cell_type": "code",
   "execution_count": 772,
   "id": "589e2968",
   "metadata": {},
   "outputs": [],
   "source": [
    "# save into variable\n",
    "group1 = hasil_re.group(1)\n",
    "group2 = hasil_re.group(2)"
   ]
  },
  {
   "cell_type": "code",
   "execution_count": 773,
   "id": "88980571",
   "metadata": {},
   "outputs": [
    {
     "data": {
      "text/plain": [
       "['up!']"
      ]
     },
     "execution_count": 773,
     "metadata": {},
     "output_type": "execute_result"
    }
   ],
   "source": [
    "# Lookahead\n",
    "# positive lookahead\n",
    "pattern = \"\\w+!\"\n",
    "re_string = \"Dokja wake up!\"\n",
    "re.findall(pattern, re_string)"
   ]
  },
  {
   "cell_type": "code",
   "execution_count": 774,
   "id": "fdfecf1a",
   "metadata": {},
   "outputs": [
    {
     "data": {
      "text/plain": [
       "['up']"
      ]
     },
     "execution_count": 774,
     "metadata": {},
     "output_type": "execute_result"
    }
   ],
   "source": [
    "pattern = \"\\w+(?=!)\"\n",
    "re_string = \"Dokja wake up!\"\n",
    "re.findall(pattern, re_string)"
   ]
  },
  {
   "cell_type": "code",
   "execution_count": 775,
   "id": "bbea94a1",
   "metadata": {},
   "outputs": [
    {
     "data": {
      "text/plain": [
       "['Dokja ', 'wake ']"
      ]
     },
     "execution_count": 775,
     "metadata": {},
     "output_type": "execute_result"
    }
   ],
   "source": [
    "# Lookahead negative\n",
    "pattern = \"\\w+(?!!)\\s\"\n",
    "re_string = \"Dokja wake up!\"\n",
    "re.findall(pattern, re_string)"
   ]
  },
  {
   "cell_type": "code",
   "execution_count": 776,
   "id": "fd0e5447",
   "metadata": {},
   "outputs": [
    {
     "data": {
      "text/plain": [
       "['wake', 'up']"
      ]
     },
     "execution_count": 776,
     "metadata": {},
     "output_type": "execute_result"
    }
   ],
   "source": [
    "# Lookbehind\n",
    "# positive lookbehind\n",
    "pattern = \"(?<=\\s)\\w+\"\n",
    "re_string = \"Dokja wake up!\"\n",
    "re.findall(pattern, re_string)"
   ]
  },
  {
   "cell_type": "code",
   "execution_count": 777,
   "id": "cb4eb5ad",
   "metadata": {},
   "outputs": [
    {
     "data": {
      "text/plain": [
       "['Dokja ', 'ake ']"
      ]
     },
     "execution_count": 777,
     "metadata": {},
     "output_type": "execute_result"
    }
   ],
   "source": [
    "# negative lookbehind\n",
    "pattern = \"(?<!Dokja )\\w+\\s\"\n",
    "re_string = \"Dokja wake up!\"\n",
    "re.findall(pattern, re_string)"
   ]
  }
 ],
 "metadata": {
  "kernelspec": {
   "display_name": "ml",
   "language": "python",
   "name": "python3"
  },
  "language_info": {
   "codemirror_mode": {
    "name": "ipython",
    "version": 3
   },
   "file_extension": ".py",
   "mimetype": "text/x-python",
   "name": "python",
   "nbconvert_exporter": "python",
   "pygments_lexer": "ipython3",
   "version": "3.10.13"
  }
 },
 "nbformat": 4,
 "nbformat_minor": 5
}
