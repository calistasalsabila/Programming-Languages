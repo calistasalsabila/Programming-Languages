{
 "cells": [
  {
   "cell_type": "markdown",
   "id": "58ff2d59",
   "metadata": {},
   "source": [
    "##### Reguler Expression"
   ]
  },
  {
   "cell_type": "code",
   "execution_count": 90,
   "id": "adb3857c",
   "metadata": {},
   "outputs": [],
   "source": [
    "import regex\n",
    "# atau import re"
   ]
  },
  {
   "cell_type": "code",
   "execution_count": 91,
   "id": "23e5a343",
   "metadata": {},
   "outputs": [
    {
     "data": {
      "text/plain": [
       "True"
      ]
     },
     "execution_count": 91,
     "metadata": {},
     "output_type": "execute_result"
    }
   ],
   "source": [
    "\"7\" in \"I like number 7\""
   ]
  },
  {
   "cell_type": "code",
   "execution_count": 92,
   "id": "02544f7c",
   "metadata": {},
   "outputs": [
    {
     "data": {
      "text/plain": [
       "True"
      ]
     },
     "execution_count": 92,
     "metadata": {},
     "output_type": "execute_result"
    }
   ],
   "source": [
    "pattern = \"7\"\n",
    "re_string = \"7 is my favorite number huahahhaa\"\n",
    "\n",
    "pattern in re_string"
   ]
  },
  {
   "cell_type": "code",
   "execution_count": 93,
   "id": "a63a7cb9",
   "metadata": {},
   "outputs": [],
   "source": [
    "import re\n",
    "pattern = \"7\"\n",
    "re_string = \"7 is my favorite number huahahhaa\"\n",
    "hasil_re = re.search(pattern, re_string) #(pattern, string, flags=0)\n"
   ]
  },
  {
   "cell_type": "code",
   "execution_count": 94,
   "id": "577eb4eb",
   "metadata": {},
   "outputs": [
    {
     "data": {
      "text/plain": [
       "'7'"
      ]
     },
     "execution_count": 94,
     "metadata": {},
     "output_type": "execute_result"
    }
   ],
   "source": [
    "hasil_re.group()"
   ]
  },
  {
   "cell_type": "code",
   "execution_count": 95,
   "id": "631af55f",
   "metadata": {},
   "outputs": [
    {
     "data": {
      "text/plain": [
       "(0, 1)"
      ]
     },
     "execution_count": 95,
     "metadata": {},
     "output_type": "execute_result"
    }
   ],
   "source": [
    "hasil_re.span() # hasil_re.start() -> outputnya 0 ; hasil_re.end() -> outputnya 1"
   ]
  },
  {
   "cell_type": "code",
   "execution_count": 96,
   "id": "26085177",
   "metadata": {},
   "outputs": [
    {
     "data": {
      "text/plain": [
       "['1864']"
      ]
     },
     "execution_count": 96,
     "metadata": {},
     "output_type": "execute_result"
    }
   ],
   "source": [
    "pattern1 = \"1864\"\n",
    "re1_string = \"Jeha regressed 1864 times\"\n",
    "re.findall(pattern1, re1_string)"
   ]
  },
  {
   "cell_type": "code",
   "execution_count": 97,
   "id": "eabf1ad8",
   "metadata": {},
   "outputs": [
    {
     "data": {
      "text/plain": [
       "['1864', '1863']"
      ]
     },
     "execution_count": 97,
     "metadata": {},
     "output_type": "execute_result"
    }
   ],
   "source": [
    "pattern1 = \"\\d\\d\\d\\d\" # character class\n",
    "re1_string = \"Jeha regressed 1864 times and found oldest dream in 1863\"\n",
    "re.findall(pattern1, re1_string)"
   ]
  },
  {
   "cell_type": "code",
   "execution_count": 98,
   "id": "f755979f",
   "metadata": {},
   "outputs": [
    {
     "name": "stdout",
     "output_type": "stream",
     "text": [
      "apa \n",
      "huh\n"
     ]
    }
   ],
   "source": [
    "print(\"apa \\nhuh\")"
   ]
  },
  {
   "cell_type": "code",
   "execution_count": 111,
   "id": "0fc28e6e",
   "metadata": {},
   "outputs": [
    {
     "name": "stdout",
     "output_type": "stream",
     "text": [
      "\\\\\n",
      "['\\\\']\n"
     ]
    }
   ],
   "source": [
    "import re\n",
    "print(r\"\\\\\")\n",
    "pattern2 = r\"\\\\\"\n",
    "re_string2 = \"tis is exempel of eskep char = \\\\\"\n",
    "print(re.findall(pattern2, re_string2))"
   ]
  },
  {
   "cell_type": "code",
   "execution_count": null,
   "id": "690d3b58",
   "metadata": {},
   "outputs": [
    {
     "data": {
      "text/plain": [
       "['1864', '1863']"
      ]
     },
     "execution_count": 112,
     "metadata": {},
     "output_type": "execute_result"
    }
   ],
   "source": [
    "# quantifiers\n",
    "pattern1 = \"\\d{4}\" # atau {start, stop}\n",
    "re1_string = \"Jeha regressed 1864 times and found oldest dream in 1863\"\n",
    "re.findall(pattern1, re1_string)"
   ]
  }
 ],
 "metadata": {
  "kernelspec": {
   "display_name": "ml",
   "language": "python",
   "name": "python3"
  },
  "language_info": {
   "codemirror_mode": {
    "name": "ipython",
    "version": 3
   },
   "file_extension": ".py",
   "mimetype": "text/x-python",
   "name": "python",
   "nbconvert_exporter": "python",
   "pygments_lexer": "ipython3",
   "version": "3.10.13"
  }
 },
 "nbformat": 4,
 "nbformat_minor": 5
}
