{
 "cells": [
  {
   "cell_type": "markdown",
   "id": "122b7851",
   "metadata": {},
   "source": [
    "##### Module Mathematics Statistic and Random"
   ]
  },
  {
   "cell_type": "markdown",
   "id": "6e0a6997",
   "metadata": {},
   "source": [
    "##### Module Math"
   ]
  },
  {
   "cell_type": "code",
   "execution_count": 450,
   "id": "869a831e",
   "metadata": {},
   "outputs": [],
   "source": [
    "import math"
   ]
  },
  {
   "cell_type": "code",
   "execution_count": 451,
   "id": "0460a640",
   "metadata": {},
   "outputs": [
    {
     "name": "stdout",
     "output_type": "stream",
     "text": [
      "3.141592653589793\n",
      "2.718281828459045\n",
      "inf\n",
      "nan\n"
     ]
    }
   ],
   "source": [
    "# Constanta\n",
    "print(math.pi)\n",
    "print(math.e)\n",
    "print(math.inf)\n",
    "print(math.nan) # not a number"
   ]
  },
  {
   "cell_type": "code",
   "execution_count": 452,
   "id": "6233d7a4",
   "metadata": {},
   "outputs": [
    {
     "name": "stdout",
     "output_type": "stream",
     "text": [
      "3\n",
      "4\n",
      "3\n"
     ]
    }
   ],
   "source": [
    "# Arithmetic\n",
    "number = 3.7\n",
    "print(math.floor(number)) \n",
    "print(math.ceil (number)) \n",
    "print(math.trunc (number)) "
   ]
  },
  {
   "cell_type": "code",
   "execution_count": 453,
   "id": "303519f5",
   "metadata": {},
   "outputs": [
    {
     "name": "stdout",
     "output_type": "stream",
     "text": [
      "57.29577951308232\n",
      "1.5707963267948966\n",
      "0.9999996829318346\n",
      "0.0007963267107332633\n",
      "1255.7655915007897\n"
     ]
    }
   ],
   "source": [
    "# Trigonometri\n",
    "print(math.degrees(1)) # radian ke derajat\n",
    "print(math.radians(90)) # derajat ke radian\n",
    "print(math.sin(1.57)) # sinus 1.57 radian ; 1.57 radian = 90 derajat\n",
    "print(math.cos(1.57))\n",
    "print(math.tan(1.57))\n"
   ]
  },
  {
   "cell_type": "code",
   "execution_count": 454,
   "id": "a93380e4",
   "metadata": {},
   "outputs": [
    {
     "name": "stdout",
     "output_type": "stream",
     "text": [
      "2.0\n",
      "3.0\n"
     ]
    }
   ],
   "source": [
    "# Logaritma \n",
    "print(math.log(4, 2))  \n",
    "print(math.log10(1000))  "
   ]
  },
  {
   "cell_type": "code",
   "execution_count": 455,
   "id": "b69c9e88",
   "metadata": {},
   "outputs": [
    {
     "name": "stdout",
     "output_type": "stream",
     "text": [
      "120\n",
      "3\n",
      "5\n",
      "5\n"
     ]
    }
   ],
   "source": [
    "# Etc \n",
    "print(math.factorial(5))\n",
    "print(math.gcd(12, 15))\n",
    "print(math.comb(5,1))\n",
    "print(math.perm(5,1))"
   ]
  },
  {
   "cell_type": "markdown",
   "id": "2c917442",
   "metadata": {},
   "source": [
    "##### Module Statistic"
   ]
  },
  {
   "cell_type": "code",
   "execution_count": 456,
   "id": "5c735af1",
   "metadata": {},
   "outputs": [],
   "source": [
    "data = [1,3,5,8,2,3, 5, 9]"
   ]
  },
  {
   "cell_type": "code",
   "execution_count": 457,
   "id": "65d23dee",
   "metadata": {},
   "outputs": [],
   "source": [
    "import statistics"
   ]
  },
  {
   "cell_type": "code",
   "execution_count": 458,
   "id": "7bff67f1",
   "metadata": {},
   "outputs": [
    {
     "name": "stdout",
     "output_type": "stream",
     "text": [
      "4.5\n",
      "3\n",
      "4.0\n",
      "2.8284271247461903\n",
      "8\n"
     ]
    }
   ],
   "source": [
    "print(statistics.mean(data))\n",
    "print(statistics.mode(data))\n",
    "print(statistics.median(data))\n",
    "print(statistics.stdev(data))\n",
    "print(statistics.variance(data))\n"
   ]
  },
  {
   "cell_type": "markdown",
   "id": "84a6484d",
   "metadata": {},
   "source": [
    "##### Module Random"
   ]
  },
  {
   "cell_type": "code",
   "execution_count": 459,
   "id": "f51f0961",
   "metadata": {},
   "outputs": [],
   "source": [
    "import random"
   ]
  },
  {
   "cell_type": "code",
   "execution_count": 465,
   "id": "89fccb4c",
   "metadata": {},
   "outputs": [
    {
     "name": "stdout",
     "output_type": "stream",
     "text": [
      "0.5812040171120031\n",
      "21\n",
      "99.97216079858164\n"
     ]
    }
   ],
   "source": [
    "print(random.random())\n",
    "print(random.randint(1, 100))\n",
    "print(random.uniform(1, 100))"
   ]
  },
  {
   "cell_type": "code",
   "execution_count": 463,
   "id": "dee65df6",
   "metadata": {},
   "outputs": [
    {
     "name": "stdout",
     "output_type": "stream",
     "text": [
      "dokja\n",
      "['cale', 'cale']\n",
      "['hamin', 'dokja', 'cale']\n"
     ]
    }
   ],
   "source": [
    "mc = ['hamin', 'dokja', 'cale']\n",
    "print(random.choice(mc))\n",
    "print(random.choices(mc, k=2))\n",
    "random.shuffle(mc)\n",
    "print(mc)"
   ]
  },
  {
   "cell_type": "code",
   "execution_count": 462,
   "id": "4f765e1d",
   "metadata": {},
   "outputs": [
    {
     "name": "stdout",
     "output_type": "stream",
     "text": [
      "0.9560342718892494\n",
      "8\n",
      "10.066893953102285\n"
     ]
    }
   ],
   "source": [
    "random.seed(2)\n",
    "print(random.random())\n",
    "print(random.randint(1, 100))\n",
    "print(random.uniform(1, 100))"
   ]
  }
 ],
 "metadata": {
  "kernelspec": {
   "display_name": "base",
   "language": "python",
   "name": "python3"
  },
  "language_info": {
   "codemirror_mode": {
    "name": "ipython",
    "version": 3
   },
   "file_extension": ".py",
   "mimetype": "text/x-python",
   "name": "python",
   "nbconvert_exporter": "python",
   "pygments_lexer": "ipython3",
   "version": "3.12.3"
  }
 },
 "nbformat": 4,
 "nbformat_minor": 5
}
