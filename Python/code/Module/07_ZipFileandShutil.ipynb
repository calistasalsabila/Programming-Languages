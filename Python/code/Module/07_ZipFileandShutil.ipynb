{
 "cells": [
  {
   "cell_type": "markdown",
   "id": "3fd46d7d",
   "metadata": {},
   "source": [
    "##### Module ZipFile dan Shutil"
   ]
  },
  {
   "cell_type": "markdown",
   "id": "0d25c614",
   "metadata": {},
   "source": [
    "##### Module Zipfile"
   ]
  },
  {
   "cell_type": "code",
   "execution_count": 62,
   "id": "99174f49",
   "metadata": {},
   "outputs": [],
   "source": [
    "from zipfile import ZipFile, ZIP_DEFLATED"
   ]
  },
  {
   "cell_type": "code",
   "execution_count": 63,
   "id": "bbe3cdff",
   "metadata": {},
   "outputs": [
    {
     "name": "stdout",
     "output_type": "stream",
     "text": [
      "Help on class ZipFile in module zipfile:\n",
      "\n",
      "class ZipFile(builtins.object)\n",
      " |  ZipFile(file, mode='r', compression=0, allowZip64=True, compresslevel=None, *, strict_timestamps=True)\n",
      " |  \n",
      " |  Class with methods to open, read, write, close, list zip files.\n",
      " |  \n",
      " |  z = ZipFile(file, mode=\"r\", compression=ZIP_STORED, allowZip64=True,\n",
      " |              compresslevel=None)\n",
      " |  \n",
      " |  file: Either the path to the file, or a file-like object.\n",
      " |        If it is a path, the file will be opened and closed by ZipFile.\n",
      " |  mode: The mode can be either read 'r', write 'w', exclusive create 'x',\n",
      " |        or append 'a'.\n",
      " |  compression: ZIP_STORED (no compression), ZIP_DEFLATED (requires zlib),\n",
      " |               ZIP_BZIP2 (requires bz2) or ZIP_LZMA (requires lzma).\n",
      " |  allowZip64: if True ZipFile will create files with ZIP64 extensions when\n",
      " |              needed, otherwise it will raise an exception when this would\n",
      " |              be necessary.\n",
      " |  compresslevel: None (default for the given compression type) or an integer\n",
      " |                 specifying the level to pass to the compressor.\n",
      " |                 When using ZIP_STORED or ZIP_LZMA this keyword has no effect.\n",
      " |                 When using ZIP_DEFLATED integers 0 through 9 are accepted.\n",
      " |                 When using ZIP_BZIP2 integers 1 through 9 are accepted.\n",
      " |  \n",
      " |  Methods defined here:\n",
      " |  \n",
      " |  __del__(self)\n",
      " |      Call the \"close()\" method in case the user forgot.\n",
      " |  \n",
      " |  __enter__(self)\n",
      " |  \n",
      " |  __exit__(self, type, value, traceback)\n",
      " |  \n",
      " |  __init__(self, file, mode='r', compression=0, allowZip64=True, compresslevel=None, *, strict_timestamps=True)\n",
      " |      Open the ZIP file with mode read 'r', write 'w', exclusive create 'x',\n",
      " |      or append 'a'.\n",
      " |  \n",
      " |  __repr__(self)\n",
      " |      Return repr(self).\n",
      " |  \n",
      " |  close(self)\n",
      " |      Close the file, and for mode 'w', 'x' and 'a' write the ending\n",
      " |      records.\n",
      " |  \n",
      " |  extract(self, member, path=None, pwd=None)\n",
      " |      Extract a member from the archive to the current working directory,\n",
      " |      using its full name. Its file information is extracted as accurately\n",
      " |      as possible. `member' may be a filename or a ZipInfo object. You can\n",
      " |      specify a different directory using `path'.\n",
      " |  \n",
      " |  extractall(self, path=None, members=None, pwd=None)\n",
      " |      Extract all members from the archive to the current working\n",
      " |      directory. `path' specifies a different directory to extract to.\n",
      " |      `members' is optional and must be a subset of the list returned\n",
      " |      by namelist().\n",
      " |  \n",
      " |  getinfo(self, name)\n",
      " |      Return the instance of ZipInfo given 'name'.\n",
      " |  \n",
      " |  infolist(self)\n",
      " |      Return a list of class ZipInfo instances for files in the\n",
      " |      archive.\n",
      " |  \n",
      " |  namelist(self)\n",
      " |      Return a list of file names in the archive.\n",
      " |  \n",
      " |  open(self, name, mode='r', pwd=None, *, force_zip64=False)\n",
      " |      Return file-like object for 'name'.\n",
      " |      \n",
      " |      name is a string for the file name within the ZIP file, or a ZipInfo\n",
      " |      object.\n",
      " |      \n",
      " |      mode should be 'r' to read a file already in the ZIP file, or 'w' to\n",
      " |      write to a file newly added to the archive.\n",
      " |      \n",
      " |      pwd is the password to decrypt files (only used for reading).\n",
      " |      \n",
      " |      When writing, if the file size is not known in advance but may exceed\n",
      " |      2 GiB, pass force_zip64 to use the ZIP64 format, which can handle large\n",
      " |      files.  If the size is known in advance, it is best to pass a ZipInfo\n",
      " |      instance for name, with zinfo.file_size set.\n",
      " |  \n",
      " |  printdir(self, file=None)\n",
      " |      Print a table of contents for the zip file.\n",
      " |  \n",
      " |  read(self, name, pwd=None)\n",
      " |      Return file bytes for name.\n",
      " |  \n",
      " |  setpassword(self, pwd)\n",
      " |      Set default password for encrypted files.\n",
      " |  \n",
      " |  testzip(self)\n",
      " |      Read all the files and check the CRC.\n",
      " |  \n",
      " |  write(self, filename, arcname=None, compress_type=None, compresslevel=None)\n",
      " |      Put the bytes from filename into the archive under the name\n",
      " |      arcname.\n",
      " |  \n",
      " |  writestr(self, zinfo_or_arcname, data, compress_type=None, compresslevel=None)\n",
      " |      Write a file into the archive.  The contents is 'data', which\n",
      " |      may be either a 'str' or a 'bytes' instance; if it is a 'str',\n",
      " |      it is encoded as UTF-8 first.\n",
      " |      'zinfo_or_arcname' is either a ZipInfo instance or\n",
      " |      the name of the file in the archive.\n",
      " |  \n",
      " |  ----------------------------------------------------------------------\n",
      " |  Data descriptors defined here:\n",
      " |  \n",
      " |  __dict__\n",
      " |      dictionary for instance variables (if defined)\n",
      " |  \n",
      " |  __weakref__\n",
      " |      list of weak references to the object (if defined)\n",
      " |  \n",
      " |  comment\n",
      " |      The comment text associated with the ZIP file.\n",
      " |  \n",
      " |  ----------------------------------------------------------------------\n",
      " |  Data and other attributes defined here:\n",
      " |  \n",
      " |  fp = None\n",
      "\n"
     ]
    }
   ],
   "source": [
    "help(ZipFile)"
   ]
  },
  {
   "cell_type": "code",
   "execution_count": 64,
   "id": "dbc48118",
   "metadata": {},
   "outputs": [],
   "source": [
    "with open(\"exampleZip.txt\", mode=\"w\") as file:\n",
    "    file.write(\"This is inside file\")"
   ]
  },
  {
   "cell_type": "code",
   "execution_count": 65,
   "id": "19b8d311",
   "metadata": {},
   "outputs": [],
   "source": [
    "file_zip = ZipFile(\"exampleZip.zip\", mode=\"w\")"
   ]
  },
  {
   "cell_type": "code",
   "execution_count": 66,
   "id": "8b2adf24",
   "metadata": {},
   "outputs": [],
   "source": [
    "file_zip.write(\"exampleZip.txt\", compress_type=ZIP_DEFLATED)"
   ]
  },
  {
   "cell_type": "code",
   "execution_count": 67,
   "id": "f40de3b5",
   "metadata": {},
   "outputs": [],
   "source": [
    "file_zip.close()"
   ]
  },
  {
   "cell_type": "code",
   "execution_count": 68,
   "id": "373417f8",
   "metadata": {},
   "outputs": [],
   "source": [
    "file_zip = ZipFile(\"exampleZip.zip\", mode=\"r\")"
   ]
  },
  {
   "cell_type": "code",
   "execution_count": 69,
   "id": "1acf18f4",
   "metadata": {},
   "outputs": [],
   "source": [
    "file_zip.extractall(\"extractedFiles\")"
   ]
  },
  {
   "cell_type": "markdown",
   "id": "8c41d4ba",
   "metadata": {},
   "source": [
    "##### Shutil"
   ]
  },
  {
   "cell_type": "code",
   "execution_count": null,
   "id": "dcb16a8b",
   "metadata": {},
   "outputs": [],
   "source": [
    "import shutil\n",
    "\n",
    "# Nama file zip hasil compress\n",
    "output_filename = \"backup_dokumen\"\n",
    "\n",
    "# Format zip\n",
    "archive_format = \"zip\"\n",
    "\n",
    "# Folder yang ingin dikompresi (misalnya folder \"dokumen\")\n",
    "source_folder = \"dokumen\"\n",
    "\n",
    "# Proses kompresi\n",
    "shutil.make_archive(output_filename, archive_format, source_folder)\n",
    "\n",
    "print(\"Folder berhasil dikompresi jadi zip!\")\n"
   ]
  }
 ],
 "metadata": {
  "kernelspec": {
   "display_name": "ml",
   "language": "python",
   "name": "python3"
  },
  "language_info": {
   "codemirror_mode": {
    "name": "ipython",
    "version": 3
   },
   "file_extension": ".py",
   "mimetype": "text/x-python",
   "name": "python",
   "nbconvert_exporter": "python",
   "pygments_lexer": "ipython3",
   "version": "3.10.13"
  }
 },
 "nbformat": 4,
 "nbformat_minor": 5
}
