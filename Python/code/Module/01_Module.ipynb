{
 "cells": [
  {
   "cell_type": "markdown",
   "id": "aae40873",
   "metadata": {},
   "source": [
    "##### Module\n",
    "- File python yang berisi kumpulan kode python (kelas/fungsi/variabel)\n",
    "- Package -> kumpulan dari module module python dengan tujuan tertentu\n",
    "- Extensinya .py\n",
    "- Dapat membuat file .py lalu nanti di impor ke yang lain\n",
    "- Syntax : import nama_module atau import nama_module as nama_alias"
   ]
  },
  {
   "cell_type": "code",
   "execution_count": 1,
   "id": "2591dac9",
   "metadata": {},
   "outputs": [
    {
     "name": "stdout",
     "output_type": "stream",
     "text": [
      "Hello, Dj!\n"
     ]
    }
   ],
   "source": [
    "import hm"
   ]
  },
  {
   "cell_type": "code",
   "execution_count": 2,
   "id": "4fdcd65c",
   "metadata": {},
   "outputs": [
    {
     "name": "stdout",
     "output_type": "stream",
     "text": [
      "Hello, Jh!\n"
     ]
    }
   ],
   "source": [
    "hm.hallo(\"Jh\")"
   ]
  },
  {
   "cell_type": "code",
   "execution_count": null,
   "id": "dda3fd0f",
   "metadata": {},
   "outputs": [
    {
     "name": "stdout",
     "output_type": "stream",
     "text": [
      "Hello, Hsy!\n"
     ]
    }
   ],
   "source": [
    "from hm import hallo # , apa , apa gitu sih\n",
    "\n",
    "hallo(\"Hsy\")"
   ]
  }
 ],
 "metadata": {
  "kernelspec": {
   "display_name": "base",
   "language": "python",
   "name": "python3"
  },
  "language_info": {
   "codemirror_mode": {
    "name": "ipython",
    "version": 3
   },
   "file_extension": ".py",
   "mimetype": "text/x-python",
   "name": "python",
   "nbconvert_exporter": "python",
   "pygments_lexer": "ipython3",
   "version": "3.12.7"
  }
 },
 "nbformat": 4,
 "nbformat_minor": 5
}
