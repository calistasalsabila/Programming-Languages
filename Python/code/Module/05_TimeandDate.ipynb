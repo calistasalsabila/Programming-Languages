{
 "cells": [
  {
   "cell_type": "markdown",
   "id": "e73954f7",
   "metadata": {},
   "source": [
    "##### Module Time, Datetime, Calendar, and Timeit"
   ]
  },
  {
   "cell_type": "markdown",
   "id": "5e6421aa",
   "metadata": {},
   "source": [
    "##### Module Time"
   ]
  },
  {
   "cell_type": "code",
   "execution_count": 309,
   "id": "7b5f16f8",
   "metadata": {},
   "outputs": [],
   "source": [
    "import time "
   ]
  },
  {
   "cell_type": "code",
   "execution_count": 310,
   "id": "b9d10d57",
   "metadata": {},
   "outputs": [
    {
     "data": {
      "text/plain": [
       "1746775488.1233366"
      ]
     },
     "execution_count": 310,
     "metadata": {},
     "output_type": "execute_result"
    }
   ],
   "source": [
    "time.time()\n",
    "# Epoch 1 januari 1970"
   ]
  },
  {
   "cell_type": "code",
   "execution_count": 311,
   "id": "819c2254",
   "metadata": {},
   "outputs": [
    {
     "data": {
      "text/plain": [
       "time.struct_time(tm_year=2025, tm_mon=5, tm_mday=9, tm_hour=14, tm_min=24, tm_sec=48, tm_wday=4, tm_yday=129, tm_isdst=0)"
      ]
     },
     "execution_count": 311,
     "metadata": {},
     "output_type": "execute_result"
    }
   ],
   "source": [
    "time.localtime()"
   ]
  },
  {
   "cell_type": "code",
   "execution_count": 312,
   "id": "642debd1",
   "metadata": {},
   "outputs": [
    {
     "data": {
      "text/plain": [
       "time.struct_time(tm_year=1970, tm_mon=1, tm_mday=1, tm_hour=7, tm_min=0, tm_sec=0, tm_wday=3, tm_yday=1, tm_isdst=0)"
      ]
     },
     "execution_count": 312,
     "metadata": {},
     "output_type": "execute_result"
    }
   ],
   "source": [
    "time.localtime(0)"
   ]
  },
  {
   "cell_type": "code",
   "execution_count": 313,
   "id": "60205027",
   "metadata": {},
   "outputs": [
    {
     "data": {
      "text/plain": [
       "'2025-05-09'"
      ]
     },
     "execution_count": 313,
     "metadata": {},
     "output_type": "execute_result"
    }
   ],
   "source": [
    "time.strftime(\"%Y-%m-%d\")"
   ]
  },
  {
   "cell_type": "code",
   "execution_count": 314,
   "id": "0629d23d",
   "metadata": {},
   "outputs": [],
   "source": [
    "# delay, menunda\n",
    "time.sleep(3)"
   ]
  },
  {
   "cell_type": "code",
   "execution_count": 315,
   "id": "13c0d305",
   "metadata": {},
   "outputs": [
    {
     "name": "stdout",
     "output_type": "stream",
     "text": [
      "0.002942800521850586\n"
     ]
    }
   ],
   "source": [
    "# hitung code python berjalan berapa lama wkwkwkkw\n",
    "start = time.time()\n",
    "wut = list(range(100000))\n",
    "end = time.time()\n",
    "print(end-start)"
   ]
  },
  {
   "cell_type": "markdown",
   "id": "087a03c5",
   "metadata": {},
   "source": [
    "##### Module Datetime"
   ]
  },
  {
   "cell_type": "code",
   "execution_count": 316,
   "id": "77285791",
   "metadata": {},
   "outputs": [],
   "source": [
    "from datetime import datetime"
   ]
  },
  {
   "cell_type": "code",
   "execution_count": 317,
   "id": "2b409210",
   "metadata": {},
   "outputs": [
    {
     "name": "stdout",
     "output_type": "stream",
     "text": [
      "Help on class datetime in module datetime:\n",
      "\n",
      "class datetime(date)\n",
      " |  datetime(year, month, day[, hour[, minute[, second[, microsecond[,tzinfo]]]]])\n",
      " |\n",
      " |  The year, month and day arguments are required. tzinfo may be None, or an\n",
      " |  instance of a tzinfo subclass. The remaining arguments may be ints.\n",
      " |\n",
      " |  Method resolution order:\n",
      " |      datetime\n",
      " |      date\n",
      " |      builtins.object\n",
      " |\n",
      " |  Methods defined here:\n",
      " |\n",
      " |  __add__(self, value, /)\n",
      " |      Return self+value.\n",
      " |\n",
      " |  __eq__(self, value, /)\n",
      " |      Return self==value.\n",
      " |\n",
      " |  __ge__(self, value, /)\n",
      " |      Return self>=value.\n",
      " |\n",
      " |  __getattribute__(self, name, /)\n",
      " |      Return getattr(self, name).\n",
      " |\n",
      " |  __gt__(self, value, /)\n",
      " |      Return self>value.\n",
      " |\n",
      " |  __hash__(self, /)\n",
      " |      Return hash(self).\n",
      " |\n",
      " |  __le__(self, value, /)\n",
      " |      Return self<=value.\n",
      " |\n",
      " |  __lt__(self, value, /)\n",
      " |      Return self<value.\n",
      " |\n",
      " |  __ne__(self, value, /)\n",
      " |      Return self!=value.\n",
      " |\n",
      " |  __radd__(self, value, /)\n",
      " |      Return value+self.\n",
      " |\n",
      " |  __reduce__(...)\n",
      " |      __reduce__() -> (cls, state)\n",
      " |\n",
      " |  __reduce_ex__(...)\n",
      " |      __reduce_ex__(proto) -> (cls, state)\n",
      " |\n",
      " |  __repr__(self, /)\n",
      " |      Return repr(self).\n",
      " |\n",
      " |  __rsub__(self, value, /)\n",
      " |      Return value-self.\n",
      " |\n",
      " |  __str__(self, /)\n",
      " |      Return str(self).\n",
      " |\n",
      " |  __sub__(self, value, /)\n",
      " |      Return self-value.\n",
      " |\n",
      " |  astimezone(...)\n",
      " |      tz -> convert to local time in new timezone tz\n",
      " |\n",
      " |  ctime(...)\n",
      " |      Return ctime() style string.\n",
      " |\n",
      " |  date(...)\n",
      " |      Return date object with same year, month and day.\n",
      " |\n",
      " |  dst(...)\n",
      " |      Return self.tzinfo.dst(self).\n",
      " |\n",
      " |  isoformat(...)\n",
      " |      [sep] -> string in ISO 8601 format, YYYY-MM-DDT[HH[:MM[:SS[.mmm[uuu]]]]][+HH:MM].\n",
      " |      sep is used to separate the year from the time, and defaults to 'T'.\n",
      " |      The optional argument timespec specifies the number of additional terms\n",
      " |      of the time to include. Valid options are 'auto', 'hours', 'minutes',\n",
      " |      'seconds', 'milliseconds' and 'microseconds'.\n",
      " |\n",
      " |  replace(...)\n",
      " |      Return datetime with new specified fields.\n",
      " |\n",
      " |  time(...)\n",
      " |      Return time object with same time but with tzinfo=None.\n",
      " |\n",
      " |  timestamp(...)\n",
      " |      Return POSIX timestamp as float.\n",
      " |\n",
      " |  timetuple(...)\n",
      " |      Return time tuple, compatible with time.localtime().\n",
      " |\n",
      " |  timetz(...)\n",
      " |      Return time object with same time and tzinfo.\n",
      " |\n",
      " |  tzname(...)\n",
      " |      Return self.tzinfo.tzname(self).\n",
      " |\n",
      " |  utcoffset(...)\n",
      " |      Return self.tzinfo.utcoffset(self).\n",
      " |\n",
      " |  utctimetuple(...)\n",
      " |      Return UTC time tuple, compatible with time.localtime().\n",
      " |\n",
      " |  ----------------------------------------------------------------------\n",
      " |  Class methods defined here:\n",
      " |\n",
      " |  combine(...)\n",
      " |      date, time -> datetime with same date and time fields\n",
      " |\n",
      " |  fromisoformat(...)\n",
      " |      string -> datetime from a string in most ISO 8601 formats\n",
      " |\n",
      " |  fromtimestamp(...)\n",
      " |      timestamp[, tz] -> tz's local time from POSIX timestamp.\n",
      " |\n",
      " |  now(tz=None)\n",
      " |      Returns new datetime object representing current time local to tz.\n",
      " |\n",
      " |        tz\n",
      " |          Timezone object.\n",
      " |\n",
      " |      If no tz is specified, uses local timezone.\n",
      " |\n",
      " |  strptime(...)\n",
      " |      string, format -> new datetime parsed from a string (like time.strptime()).\n",
      " |\n",
      " |  utcfromtimestamp(...)\n",
      " |      Construct a naive UTC datetime from a POSIX timestamp.\n",
      " |\n",
      " |  utcnow(...)\n",
      " |      Return a new datetime representing UTC day and time.\n",
      " |\n",
      " |  ----------------------------------------------------------------------\n",
      " |  Static methods defined here:\n",
      " |\n",
      " |  __new__(*args, **kwargs)\n",
      " |      Create and return a new object.  See help(type) for accurate signature.\n",
      " |\n",
      " |  ----------------------------------------------------------------------\n",
      " |  Data descriptors defined here:\n",
      " |\n",
      " |  fold\n",
      " |\n",
      " |  hour\n",
      " |\n",
      " |  microsecond\n",
      " |\n",
      " |  minute\n",
      " |\n",
      " |  second\n",
      " |\n",
      " |  tzinfo\n",
      " |\n",
      " |  ----------------------------------------------------------------------\n",
      " |  Data and other attributes defined here:\n",
      " |\n",
      " |  max = datetime.datetime(9999, 12, 31, 23, 59, 59, 999999)\n",
      " |\n",
      " |  min = datetime.datetime(1, 1, 1, 0, 0)\n",
      " |\n",
      " |  resolution = datetime.timedelta(microseconds=1)\n",
      " |\n",
      " |  ----------------------------------------------------------------------\n",
      " |  Methods inherited from date:\n",
      " |\n",
      " |  __format__(...)\n",
      " |      Formats self with strftime.\n",
      " |\n",
      " |  isocalendar(...)\n",
      " |      Return a named tuple containing ISO year, week number, and weekday.\n",
      " |\n",
      " |  isoweekday(...)\n",
      " |      Return the day of the week represented by the date.\n",
      " |      Monday == 1 ... Sunday == 7\n",
      " |\n",
      " |  strftime(...)\n",
      " |      format -> strftime() style string.\n",
      " |\n",
      " |  toordinal(...)\n",
      " |      Return proleptic Gregorian ordinal.  January 1 of year 1 is day 1.\n",
      " |\n",
      " |  weekday(...)\n",
      " |      Return the day of the week represented by the date.\n",
      " |      Monday == 0 ... Sunday == 6\n",
      " |\n",
      " |  ----------------------------------------------------------------------\n",
      " |  Class methods inherited from date:\n",
      " |\n",
      " |  fromisocalendar(...)\n",
      " |      int, int, int -> Construct a date from the ISO year, week number and weekday.\n",
      " |\n",
      " |      This is the inverse of the date.isocalendar() function\n",
      " |\n",
      " |  fromordinal(...)\n",
      " |      int -> date corresponding to a proleptic Gregorian ordinal.\n",
      " |\n",
      " |  today(...)\n",
      " |      Current date or datetime:  same as self.__class__.fromtimestamp(time.time()).\n",
      " |\n",
      " |  ----------------------------------------------------------------------\n",
      " |  Data descriptors inherited from date:\n",
      " |\n",
      " |  day\n",
      " |\n",
      " |  month\n",
      " |\n",
      " |  year\n",
      "\n"
     ]
    }
   ],
   "source": [
    "help(datetime)"
   ]
  },
  {
   "cell_type": "code",
   "execution_count": 318,
   "id": "18509cb7",
   "metadata": {},
   "outputs": [
    {
     "data": {
      "text/plain": [
       "datetime.datetime(2025, 5, 9, 14, 24, 51, 238357)"
      ]
     },
     "execution_count": 318,
     "metadata": {},
     "output_type": "execute_result"
    }
   ],
   "source": [
    "datetime.now()"
   ]
  },
  {
   "cell_type": "code",
   "execution_count": 319,
   "id": "f8983823",
   "metadata": {},
   "outputs": [
    {
     "data": {
      "text/plain": [
       "datetime.datetime(2025, 5, 9, 0, 0)"
      ]
     },
     "execution_count": 319,
     "metadata": {},
     "output_type": "execute_result"
    }
   ],
   "source": [
    "now = datetime(2025, 5, 9)\n",
    "now"
   ]
  },
  {
   "cell_type": "code",
   "execution_count": 320,
   "id": "b964038b",
   "metadata": {},
   "outputs": [
    {
     "name": "stdout",
     "output_type": "stream",
     "text": [
      "2 days, 0:00:00\n"
     ]
    }
   ],
   "source": [
    "then = datetime(2025, 5, 7)\n",
    "print(now-then)"
   ]
  },
  {
   "cell_type": "code",
   "execution_count": 321,
   "id": "050e0040",
   "metadata": {},
   "outputs": [
    {
     "name": "stdout",
     "output_type": "stream",
     "text": [
      "2025\n",
      "5\n",
      "7\n"
     ]
    }
   ],
   "source": [
    "print(now.year)\n",
    "print(now.month)\n",
    "print(then.day)"
   ]
  },
  {
   "cell_type": "markdown",
   "id": "bfde0617",
   "metadata": {},
   "source": [
    "##### Module Calendar"
   ]
  },
  {
   "cell_type": "code",
   "execution_count": 322,
   "id": "95de7270",
   "metadata": {},
   "outputs": [],
   "source": [
    "import calendar"
   ]
  },
  {
   "cell_type": "code",
   "execution_count": 323,
   "id": "2aeabb2b",
   "metadata": {},
   "outputs": [
    {
     "name": "stdout",
     "output_type": "stream",
     "text": [
      "                                  2025\n",
      "\n",
      "      January                   February                   March\n",
      "Mo Tu We Th Fr Sa Su      Mo Tu We Th Fr Sa Su      Mo Tu We Th Fr Sa Su\n",
      "       1  2  3  4  5                      1  2                      1  2\n",
      " 6  7  8  9 10 11 12       3  4  5  6  7  8  9       3  4  5  6  7  8  9\n",
      "13 14 15 16 17 18 19      10 11 12 13 14 15 16      10 11 12 13 14 15 16\n",
      "20 21 22 23 24 25 26      17 18 19 20 21 22 23      17 18 19 20 21 22 23\n",
      "27 28 29 30 31            24 25 26 27 28            24 25 26 27 28 29 30\n",
      "                                                    31\n",
      "\n",
      "       April                      May                       June\n",
      "Mo Tu We Th Fr Sa Su      Mo Tu We Th Fr Sa Su      Mo Tu We Th Fr Sa Su\n",
      "    1  2  3  4  5  6                1  2  3  4                         1\n",
      " 7  8  9 10 11 12 13       5  6  7  8  9 10 11       2  3  4  5  6  7  8\n",
      "14 15 16 17 18 19 20      12 13 14 15 16 17 18       9 10 11 12 13 14 15\n",
      "21 22 23 24 25 26 27      19 20 21 22 23 24 25      16 17 18 19 20 21 22\n",
      "28 29 30                  26 27 28 29 30 31         23 24 25 26 27 28 29\n",
      "                                                    30\n",
      "\n",
      "        July                     August                  September\n",
      "Mo Tu We Th Fr Sa Su      Mo Tu We Th Fr Sa Su      Mo Tu We Th Fr Sa Su\n",
      "    1  2  3  4  5  6                   1  2  3       1  2  3  4  5  6  7\n",
      " 7  8  9 10 11 12 13       4  5  6  7  8  9 10       8  9 10 11 12 13 14\n",
      "14 15 16 17 18 19 20      11 12 13 14 15 16 17      15 16 17 18 19 20 21\n",
      "21 22 23 24 25 26 27      18 19 20 21 22 23 24      22 23 24 25 26 27 28\n",
      "28 29 30 31               25 26 27 28 29 30 31      29 30\n",
      "\n",
      "      October                   November                  December\n",
      "Mo Tu We Th Fr Sa Su      Mo Tu We Th Fr Sa Su      Mo Tu We Th Fr Sa Su\n",
      "       1  2  3  4  5                      1  2       1  2  3  4  5  6  7\n",
      " 6  7  8  9 10 11 12       3  4  5  6  7  8  9       8  9 10 11 12 13 14\n",
      "13 14 15 16 17 18 19      10 11 12 13 14 15 16      15 16 17 18 19 20 21\n",
      "20 21 22 23 24 25 26      17 18 19 20 21 22 23      22 23 24 25 26 27 28\n",
      "27 28 29 30 31            24 25 26 27 28 29 30      29 30 31\n",
      "\n"
     ]
    }
   ],
   "source": [
    "a = calendar.HTMLCalendar()\n",
    "b = calendar.TextCalendar()\n",
    "\n",
    "print(b.formatyear(2025)) # kalo a ntar berantakan karena html\n",
    "# print(b.formatyear(2025,5 )) ; print bulan mei aja"
   ]
  },
  {
   "cell_type": "markdown",
   "id": "aa4c4258",
   "metadata": {},
   "source": [
    "##### Module Timeit"
   ]
  },
  {
   "cell_type": "code",
   "execution_count": 324,
   "id": "d1b798ea",
   "metadata": {},
   "outputs": [],
   "source": [
    "from timeit import timeit"
   ]
  },
  {
   "cell_type": "code",
   "execution_count": 325,
   "id": "8feb4f40",
   "metadata": {},
   "outputs": [
    {
     "name": "stdout",
     "output_type": "stream",
     "text": [
      "Help on function timeit in module timeit:\n",
      "\n",
      "timeit(stmt='pass', setup='pass', timer=<built-in function perf_counter>, number=1000000, globals=None)\n",
      "    Convenience function to create Timer object and call timeit method.\n",
      "\n"
     ]
    }
   ],
   "source": [
    "help(timeit)"
   ]
  },
  {
   "cell_type": "code",
   "execution_count": 326,
   "id": "216d3e58",
   "metadata": {},
   "outputs": [],
   "source": [
    "setup = \"\"\"\n",
    "\n",
    "def func1():\n",
    "    a = list(range(0,1000))\n",
    "    a[::-1]\n",
    "    a[::-1]\n",
    "\n",
    "def func2():\n",
    "    a = list(range(0,1000))\n",
    "    a.reverse()\n",
    "\n",
    "\"\"\""
   ]
  },
  {
   "cell_type": "code",
   "execution_count": 327,
   "id": "254b31a5",
   "metadata": {},
   "outputs": [
    {
     "data": {
      "text/plain": [
       "2.3999600671231747e-06"
      ]
     },
     "execution_count": 327,
     "metadata": {},
     "output_type": "execute_result"
    }
   ],
   "source": [
    "hasil_func1 = timeit(stmt='func1', setup = setup, number=100)\n",
    "hasil_func1"
   ]
  },
  {
   "cell_type": "code",
   "execution_count": 328,
   "id": "061f5439",
   "metadata": {},
   "outputs": [
    {
     "data": {
      "text/plain": [
       "2.500019036233425e-06"
      ]
     },
     "execution_count": 328,
     "metadata": {},
     "output_type": "execute_result"
    }
   ],
   "source": [
    "hasil_func2 = timeit(stmt='func2', setup = setup, number=100)\n",
    "hasil_func2"
   ]
  }
 ],
 "metadata": {
  "kernelspec": {
   "display_name": "base",
   "language": "python",
   "name": "python3"
  },
  "language_info": {
   "codemirror_mode": {
    "name": "ipython",
    "version": 3
   },
   "file_extension": ".py",
   "mimetype": "text/x-python",
   "name": "python",
   "nbconvert_exporter": "python",
   "pygments_lexer": "ipython3",
   "version": "3.12.3"
  }
 },
 "nbformat": 4,
 "nbformat_minor": 5
}
