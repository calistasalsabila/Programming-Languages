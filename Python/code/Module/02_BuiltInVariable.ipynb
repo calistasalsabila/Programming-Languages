{
 "cells": [
  {
   "cell_type": "markdown",
   "id": "1df00361",
   "metadata": {},
   "source": [
    "##### Built in Variable\n",
    "- Menggunakan pola double underscore \n",
    "- Example : \n",
    "    - `__name__` : nama modul\n",
    "    - `__doc__`  : module docstring\n",
    "    - `__file__` : direktorinya"
   ]
  }
 ],
 "metadata": {
  "language_info": {
   "name": "python"
  }
 },
 "nbformat": 4,
 "nbformat_minor": 5
}
