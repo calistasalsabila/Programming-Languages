{
 "cells": [
  {
   "cell_type": "markdown",
   "metadata": {},
   "source": [
    "#### Loops"
   ]
  },
  {
   "cell_type": "markdown",
   "metadata": {},
   "source": [
    "##### For Loops\n",
    "- for\n",
    "- pengulangan for dilakukan dengan objek objek iterable\n",
    "- objek iterable adalah objek yang anggotanya dapat diambil satu per satu\n",
    "- contoh objek iterable : list, tuple, string, dictionary"
   ]
  },
  {
   "cell_type": "markdown",
   "metadata": {},
   "source": [
    "##### Syntax For\n",
    "- for item in iretable:\n",
    "    - //kode yang di jalankan"
   ]
  },
  {
   "cell_type": "markdown",
   "metadata": {},
   "source": [
    "##### Pengulangan For dengan Built in Function\n",
    "- enumerate() = digunakan untuk memberikan index pada saat melakukan pengulangan\n",
    "- zip() = mengkombinasikan dua atau lebih elemen di dalam objek iterable yang ada di dalam pengulangan\n",
    "- range() = membuat urutan angka yang dapat di panggil satu per satu di pengulangan"
   ]
  },
  {
   "cell_type": "code",
   "execution_count": 33,
   "metadata": {},
   "outputs": [
    {
     "name": "stdout",
     "output_type": "stream",
     "text": [
      "100\n",
      "99\n",
      "100\n"
     ]
    }
   ],
   "source": [
    "a = [100, 99, 100]\n",
    "for i in a:\n",
    "    print(i) # nama variabel nya ga harus i sih"
   ]
  },
  {
   "cell_type": "code",
   "execution_count": null,
   "metadata": {},
   "outputs": [
    {
     "name": "stdout",
     "output_type": "stream",
     "text": [
      "K\n",
      "i\n",
      "m\n",
      " \n",
      "D\n",
      "o\n",
      "k\n",
      "j\n",
      "a\n"
     ]
    }
   ],
   "source": [
    "mc = \"Kim Dokja\"\n",
    "for item in mc:\n",
    "    print(item) # atau pakai print(f'mc = {mc}')\n",
    "    #berlaku untuk tuple, etc"
   ]
  },
  {
   "cell_type": "code",
   "execution_count": 14,
   "metadata": {},
   "outputs": [
    {
     "name": "stdout",
     "output_type": "stream",
     "text": [
      "satu\n",
      "dua\n",
      "tiga\n"
     ]
    }
   ],
   "source": [
    "a = [1,2,3]\n",
    "\n",
    "for i in a:\n",
    "    if i == 1:\n",
    "        print(\"satu\")\n",
    "    elif i == 2:\n",
    "        print(\"dua\")\n",
    "    elif i == 3:\n",
    "        print(\"tiga\")"
   ]
  },
  {
   "cell_type": "code",
   "execution_count": 16,
   "metadata": {},
   "outputs": [
    {
     "name": "stdout",
     "output_type": "stream",
     "text": [
      "6\n",
      "wkwk\n",
      "wkwk\n",
      "wkwk\n"
     ]
    }
   ],
   "source": [
    "a = [1,2,3]\n",
    "total = 0\n",
    "\n",
    "for i in a:\n",
    "    total = total + i\n",
    "\n",
    "print(total) \n",
    "\n",
    "for _ in a:\n",
    "    print(\"wkwk\")"
   ]
  },
  {
   "cell_type": "code",
   "execution_count": 19,
   "metadata": {},
   "outputs": [
    {
     "name": "stdout",
     "output_type": "stream",
     "text": [
      "1\n",
      "2\n",
      "3\n",
      "4\n",
      "5\n",
      "6\n",
      "7\n",
      "8\n",
      "9\n",
      "10\n"
     ]
    }
   ],
   "source": [
    "# Tuple unpacking\n",
    "number = [(1,2) , (2,2) , (3,2) , (4,2) , (5,2) , (6,2) , (7,2) , (8,2) , (9,2) , (10,2)]\n",
    "for (a,b) in number:\n",
    "    print(a)"
   ]
  },
  {
   "cell_type": "code",
   "execution_count": 20,
   "metadata": {},
   "outputs": [
    {
     "name": "stdout",
     "output_type": "stream",
     "text": [
      "hiu\n",
      "dino\n"
     ]
    }
   ],
   "source": [
    "fish = {1:\"hiu\", 2:\"dino\"}\n",
    "for item in fish.values():\n",
    "    print(item)"
   ]
  },
  {
   "cell_type": "code",
   "execution_count": 21,
   "metadata": {},
   "outputs": [
    {
     "name": "stdout",
     "output_type": "stream",
     "text": [
      "1\n",
      "2\n"
     ]
    }
   ],
   "source": [
    "fish = {1:\"hiu\", 2:\"dino\"}\n",
    "for item in fish:\n",
    "    print(item)"
   ]
  },
  {
   "cell_type": "code",
   "execution_count": 23,
   "metadata": {},
   "outputs": [
    {
     "name": "stdout",
     "output_type": "stream",
     "text": [
      "number : 1\n",
      "animal : hiu\n",
      "number : 2\n",
      "animal : dino\n"
     ]
    }
   ],
   "source": [
    "fish = {1:\"hiu\", 2:\"dino\"}\n",
    "for (a,b) in fish.items():\n",
    "    print(f'number : {a}')\n",
    "    print(f'animal : {b}')"
   ]
  },
  {
   "cell_type": "code",
   "execution_count": 26,
   "metadata": {},
   "outputs": [
    {
     "name": "stdout",
     "output_type": "stream",
     "text": [
      "number = 1, grade a\n",
      "number = 2, grade a-\n"
     ]
    }
   ],
   "source": [
    "grade = ['a', 'a-']\n",
    "for i, variable in enumerate(grade):\n",
    "    # print(i)\n",
    "    # print(variable) \n",
    "    print(f'number = {i+1}, grade {variable}')\n"
   ]
  },
  {
   "cell_type": "code",
   "execution_count": 28,
   "metadata": {},
   "outputs": [
    {
     "name": "stdout",
     "output_type": "stream",
     "text": [
      "Dj is a reader\n",
      "Jh is a protagonist\n"
     ]
    }
   ],
   "source": [
    "name = [\"Dj\", \"Jh\"]\n",
    "apa = [\"reader\", \"protagonist\"]\n",
    "\n",
    "for a,b in zip(name,apa):\n",
    "    print(f\"{a} is a {b}\")"
   ]
  },
  {
   "cell_type": "code",
   "execution_count": 32,
   "metadata": {},
   "outputs": [
    {
     "name": "stdout",
     "output_type": "stream",
     "text": [
      "1\n",
      "3\n",
      "5\n"
     ]
    }
   ],
   "source": [
    "# range = star, end, step\n",
    "for i in range(1,6,2):\n",
    "    print(i)"
   ]
  }
 ],
 "metadata": {
  "kernelspec": {
   "display_name": "base",
   "language": "python",
   "name": "python3"
  },
  "language_info": {
   "codemirror_mode": {
    "name": "ipython",
    "version": 3
   },
   "file_extension": ".py",
   "mimetype": "text/x-python",
   "name": "python",
   "nbconvert_exporter": "python",
   "pygments_lexer": "ipython3",
   "version": "3.12.7"
  }
 },
 "nbformat": 4,
 "nbformat_minor": 2
}
