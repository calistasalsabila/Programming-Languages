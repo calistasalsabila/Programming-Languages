{
 "cells": [
  {
   "cell_type": "markdown",
   "metadata": {},
   "source": [
    "##### Example"
   ]
  },
  {
   "cell_type": "markdown",
   "metadata": {},
   "source": [
    "- Function with operator"
   ]
  },
  {
   "cell_type": "code",
   "execution_count": 2,
   "metadata": {},
   "outputs": [
    {
     "name": "stdout",
     "output_type": "stream",
     "text": [
      "True\n"
     ]
    }
   ],
   "source": [
    "def even_number(number):\n",
    "    return number % 2 == 0\n",
    "print(even_number(10))"
   ]
  },
  {
   "cell_type": "code",
   "execution_count": 3,
   "metadata": {},
   "outputs": [
    {
     "name": "stdout",
     "output_type": "stream",
     "text": [
      "True\n"
     ]
    }
   ],
   "source": [
    "def accepted(score):\n",
    "    return score >= 7.5\n",
    "print(accepted(9))"
   ]
  },
  {
   "cell_type": "markdown",
   "metadata": {},
   "source": [
    "- Function with conditional"
   ]
  },
  {
   "cell_type": "code",
   "execution_count": 8,
   "metadata": {},
   "outputs": [
    {
     "name": "stdout",
     "output_type": "stream",
     "text": [
      "163, yaudah si\n",
      "None\n"
     ]
    }
   ],
   "source": [
    "def ok(height):\n",
    "    if height >= 150:\n",
    "        print(f'{height}, yaudah si')\n",
    "    else:\n",
    "        print(f'{height}, yaudah si juga bedanya ni else')\n",
    "print(ok(163))"
   ]
  },
  {
   "cell_type": "markdown",
   "metadata": {},
   "source": [
    "- Function with looping"
   ]
  },
  {
   "cell_type": "code",
   "execution_count": 10,
   "metadata": {},
   "outputs": [
    {
     "name": "stdout",
     "output_type": "stream",
     "text": [
      "10\n",
      "11\n",
      "None\n"
     ]
    }
   ],
   "source": [
    "def num(start_from, end_at):\n",
    "    for i in range(start_from, end_at + 1):\n",
    "        print(i)\n",
    "print(num(10,11))\n",
    "    "
   ]
  },
  {
   "cell_type": "code",
   "execution_count": 22,
   "metadata": {},
   "outputs": [
    {
     "name": "stdout",
     "output_type": "stream",
     "text": [
      "2\n"
     ]
    }
   ],
   "source": [
    "def count_vocal(name):\n",
    "    count = 0\n",
    "    for i in name:\n",
    "        if i in 'aiueoAIUEO':\n",
    "            count += 1\n",
    "    return count\n",
    "mc = \"dokja\"\n",
    "print(count_vocal(mc))\n"
   ]
  },
  {
   "cell_type": "markdown",
   "metadata": {},
   "source": [
    "- Function within function"
   ]
  },
  {
   "cell_type": "code",
   "execution_count": null,
   "metadata": {},
   "outputs": [
    {
     "name": "stdout",
     "output_type": "stream",
     "text": [
      "50\n",
      "False\n"
     ]
    }
   ],
   "source": [
    "def rectangular_area(l,w):\n",
    "    def length(l):\n",
    "        return l>w #harusnya 0, tapi biarin\n",
    "    def width(w):\n",
    "        return w>0\n",
    "    if length(l) and width(w):\n",
    "        return l*w\n",
    "    else:\n",
    "        return False\n",
    "print(rectangular_area(10,5)) \n",
    "print(rectangular_area(4,5)) "
   ]
  },
  {
   "cell_type": "markdown",
   "metadata": {},
   "source": [
    "- Recursive Function"
   ]
  },
  {
   "cell_type": "code",
   "execution_count": 29,
   "metadata": {},
   "outputs": [
    {
     "name": "stdout",
     "output_type": "stream",
     "text": [
      "120\n",
      "1\n"
     ]
    }
   ],
   "source": [
    "def factorial(num):\n",
    "    if num == 0 or num == 1:\n",
    "        return 1\n",
    "    else:\n",
    "        return num*factorial(num-1)\n",
    "print(factorial(5))\n",
    "print(factorial(1))\n"
   ]
  }
 ],
 "metadata": {
  "kernelspec": {
   "display_name": "base",
   "language": "python",
   "name": "python3"
  },
  "language_info": {
   "codemirror_mode": {
    "name": "ipython",
    "version": 3
   },
   "file_extension": ".py",
   "mimetype": "text/x-python",
   "name": "python",
   "nbconvert_exporter": "python",
   "pygments_lexer": "ipython3",
   "version": "3.12.7"
  }
 },
 "nbformat": 4,
 "nbformat_minor": 2
}
