{
 "cells": [
  {
   "cell_type": "markdown",
   "metadata": {},
   "source": [
    "##### *Args and **Kwargs"
   ]
  },
  {
   "cell_type": "markdown",
   "metadata": {},
   "source": [
    "- *Args\n",
    "    - Tidak terbatas pada jumlah parameter\n",
    "    - Membuat input argumen menjadi tuple di dalam fungsi\n"
   ]
  },
  {
   "cell_type": "code",
   "execution_count": 3,
   "metadata": {},
   "outputs": [
    {
     "name": "stdout",
     "output_type": "stream",
     "text": [
      "('Kim Dokja', 'Yoo Junghyuk', 'Han Sooyoung')\n"
     ]
    }
   ],
   "source": [
    "def mc(*name):\n",
    "    print(name)\n",
    "mc(\"Kim Dokja\", \"Yoo Junghyuk\", \"Han Sooyoung\")"
   ]
  },
  {
   "cell_type": "code",
   "execution_count": 6,
   "metadata": {},
   "outputs": [
    {
     "name": "stdout",
     "output_type": "stream",
     "text": [
      "1('Kim Dokja', 'Yoo Junghyuk', 'Han Sooyoung')\n",
      "2('Kim Dokja', 'Yoo Junghyuk', 'Han Sooyoung')\n",
      "3('Kim Dokja', 'Yoo Junghyuk', 'Han Sooyoung')\n"
     ]
    }
   ],
   "source": [
    "def mc(*name):\n",
    "    for index, item in enumerate(name):\n",
    "        print(f'{index +1}{name}')       \n",
    "mc(\"Kim Dokja\", \"Yoo Junghyuk\", \"Han Sooyoung\")"
   ]
  },
  {
   "cell_type": "markdown",
   "metadata": {},
   "source": [
    "- **Kwargs\n",
    "    - Membuat input argument menjadi dictionary di dalam fungsi"
   ]
  },
  {
   "cell_type": "code",
   "execution_count": 7,
   "metadata": {},
   "outputs": [
    {
     "name": "stdout",
     "output_type": "stream",
     "text": [
      "{'nama': ['Dj', 'Jh', 'Hsy'], 'age': [28, 27, 25]}\n"
     ]
    }
   ],
   "source": [
    "def party_dokja(**name):\n",
    "    print(name)\n",
    "party_dokja(nama = [\"Dj\", \"Jh\", \"Hsy\"], age = [28,27,25])"
   ]
  },
  {
   "cell_type": "code",
   "execution_count": 10,
   "metadata": {},
   "outputs": [
    {
     "name": "stdout",
     "output_type": "stream",
     "text": [
      "{'nama': ['Dj', 'Jh', 'Hsy'], 'age': [28, 27, 25]}\n",
      "Dj, age 28\n",
      "Jh, age 27\n",
      "Hsy, age 25\n"
     ]
    }
   ],
   "source": [
    "def party_dokja(**name):\n",
    "    print(name)  # Debugging: lihat isi dictionary\n",
    "    for i, _ in enumerate(name[\"nama\"]):  # \"_\" berarti kita abaikan nama\n",
    "        print(f'{name[\"nama\"][i]}, age {name[\"age\"][i]}')\n",
    "\n",
    "party_dokja(nama=[\"Dj\", \"Jh\", \"Hsy\"], age=[28, 27, 25])\n"
   ]
  }
 ],
 "metadata": {
  "kernelspec": {
   "display_name": "base",
   "language": "python",
   "name": "python3"
  },
  "language_info": {
   "codemirror_mode": {
    "name": "ipython",
    "version": 3
   },
   "file_extension": ".py",
   "mimetype": "text/x-python",
   "name": "python",
   "nbconvert_exporter": "python",
   "pygments_lexer": "ipython3",
   "version": "3.12.7"
  }
 },
 "nbformat": 4,
 "nbformat_minor": 2
}
