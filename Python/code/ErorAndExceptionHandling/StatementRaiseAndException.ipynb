{
 "cells": [
  {
   "cell_type": "markdown",
   "id": "7811bc6b",
   "metadata": {},
   "source": [
    "##### Raise Statement and Custom Exception\n",
    "- Raise di gunakan untuk memanggil error\n",
    "- Antisipasi kemungkinan terjadi error\n",
    "- Syntax: \n",
    "    - raise EcxeptionType(\"message\")\n",
    "- Custom exception : membuat sendiri dengan menggunakan super class Exception\n",
    "- Syntax:\n",
    "    - class InvalidInputError(Exception):\n",
    "        - def __init__(self, message= \"Invalid input\"):\n",
    "            - self.message = message\n",
    "            - super().__init__(self.message)"
   ]
  },
  {
   "cell_type": "code",
   "execution_count": null,
   "id": "4a90b2cb",
   "metadata": {},
   "outputs": [],
   "source": [
    "try:\n",
    "    x = input(\"masukkan angka: \")\n",
    "    y = input(\"masukkan angka: \")\n",
    "    x = int(x)\n",
    "    y = int(y)\n",
    "    if y == 0:\n",
    "        raise ValueError\n",
    "except ValueError:\n",
    "    print(\"number pls and shouldnt 0\")\n",
    "else:\n",
    "    print(f'jadi {x} : {y} = {x/y}')\n",
    "finally:\n",
    "    print(\"ok\")"
   ]
  },
  {
   "cell_type": "code",
   "execution_count": null,
   "id": "0b286349",
   "metadata": {},
   "outputs": [],
   "source": [
    "class CantDividebyZero(Exception):\n",
    "    def __init__(self, message=\"Number except zero\"):\n",
    "        self.message = message\n",
    "        super().__init__(self.message) # (\"isi pesannya apa\")"
   ]
  },
  {
   "cell_type": "code",
   "execution_count": null,
   "id": "dbfa17a7",
   "metadata": {},
   "outputs": [],
   "source": [
    "raise CantDividebyZero"
   ]
  },
  {
   "cell_type": "code",
   "execution_count": null,
   "id": "026e7422",
   "metadata": {},
   "outputs": [],
   "source": [
    "# Code lengkap\n",
    "class CantDividebyZero(Exception):\n",
    "    def __init__(self, message=\"Number except zero\"):\n",
    "        self.message = message\n",
    "        super().__init__(self.message) # (\"isi pesannya apa\")\n",
    "try:\n",
    "    x = input(\"masukkan angka: \")\n",
    "    y = input(\"masukkan angka: \")\n",
    "    x = int(x)\n",
    "    y = int(y)\n",
    "    if y == 0:\n",
    "        raise CantDividebyZero()\n",
    "except ValueError:\n",
    "    print(\"number pls and shouldnt 0\")\n",
    "except CantDividebyZero:\n",
    "    print(\"masukkan angka selain 0 di y nya (denominator)\")\n",
    "else:\n",
    "    print(f'jadi {x} : {y} = {x/y}')\n",
    "finally:\n",
    "    print(\"ok\")"
   ]
  }
 ],
 "metadata": {
  "kernelspec": {
   "display_name": "base",
   "language": "python",
   "name": "python3"
  },
  "language_info": {
   "name": "python",
   "version": "3.12.7"
  }
 },
 "nbformat": 4,
 "nbformat_minor": 5
}
