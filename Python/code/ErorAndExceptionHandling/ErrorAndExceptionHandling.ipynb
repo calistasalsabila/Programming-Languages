{
 "cells": [
  {
   "cell_type": "markdown",
   "id": "d3127ec2",
   "metadata": {},
   "source": [
    "##### Error and Ecxeption Handling\n",
    "- Try       : blok kode pertama yang akan dijalankan dan yang memiliki kemungkinan akan mengalami error, jika terjadi eror maka akan beralih ke blok except\n",
    "- Except    : blok kode kedua yang akan dijalankan jika terjadi error pada blok try.\n",
    "- Else      : blok kode opsional, else akan dijalankan jika tidak terjadi error pada blok kode try, jika terjadi error pada try, else tidak dijalankan\n",
    "- Finally   : blok kode opsional, ada atau tidaknya error, finally tetap di jalankan\n",
    "- Syntax    :\n",
    "    - try: #kodeblok\n",
    "    - except: #kodeblok\n",
    "    - else: #kodeblok\n",
    "    - finally: #kodeblok\n"
   ]
  },
  {
   "cell_type": "code",
   "execution_count": 1,
   "id": "e2e0bd11",
   "metadata": {},
   "outputs": [
    {
     "ename": "SyntaxError",
     "evalue": "invalid syntax (2186660736.py, line 1)",
     "output_type": "error",
     "traceback": [
      "\u001b[1;36m  Cell \u001b[1;32mIn[1], line 1\u001b[1;36m\u001b[0m\n\u001b[1;33m    (\"print\")hello world!\u001b[0m\n\u001b[1;37m             ^\u001b[0m\n\u001b[1;31mSyntaxError\u001b[0m\u001b[1;31m:\u001b[0m invalid syntax\n"
     ]
    }
   ],
   "source": [
    "(\"print\")hello world!"
   ]
  },
  {
   "cell_type": "code",
   "execution_count": null,
   "id": "9ba8e473",
   "metadata": {},
   "outputs": [],
   "source": [
    "# Keyword Try and Except\n",
    "try:\n",
    "    x = input(\"masukkan angka \")\n",
    "    x = int(x)\n",
    "except:\n",
    "    print(\"number pls\")"
   ]
  },
  {
   "cell_type": "code",
   "execution_count": null,
   "id": "acaffafb",
   "metadata": {},
   "outputs": [],
   "source": [
    "# Keyword Else\n",
    "try:\n",
    "    x = input(\"masukkan angka: \")\n",
    "    y = input(\"masukkan angka: \")\n",
    "    x = int(x)\n",
    "    y = int(y)\n",
    "except:\n",
    "    print(\"number pls\")\n",
    "else:\n",
    "    print(f'jadi {x} + {y} = {x+y}')"
   ]
  },
  {
   "cell_type": "code",
   "execution_count": null,
   "id": "be883492",
   "metadata": {},
   "outputs": [],
   "source": [
    "# Keyword Finally\n",
    "try:\n",
    "    x = input(\"masukkan angka: \")\n",
    "    y = input(\"masukkan angka: \")\n",
    "    x = int(x)\n",
    "    y = int(y)\n",
    "except:\n",
    "    print(\"number pls\")\n",
    "else:\n",
    "    print(f'jadi {x} + {y} = {x+y}')\n",
    "finally:\n",
    "    print(\"ok\")"
   ]
  },
  {
   "cell_type": "code",
   "execution_count": null,
   "id": "b6428b01",
   "metadata": {},
   "outputs": [],
   "source": [
    "# Specific Error\n",
    "try:\n",
    "    x = input(\"masukkan angka: \")\n",
    "    y = input(\"masukkan angka: \")\n",
    "    x = int(x)\n",
    "    y = int(y)\n",
    "except ValueError:\n",
    "    print(\"number pls\")\n",
    "except NameError:\n",
    "    print(\"error, kode nya ada yang eror\")\n",
    "else:\n",
    "    print(f'jadi {x} + {y} = {x+y}')\n",
    "finally:\n",
    "    print(\"ok\")"
   ]
  }
 ],
 "metadata": {
  "kernelspec": {
   "display_name": "base",
   "language": "python",
   "name": "python3"
  },
  "language_info": {
   "codemirror_mode": {
    "name": "ipython",
    "version": 3
   },
   "file_extension": ".py",
   "mimetype": "text/x-python",
   "name": "python",
   "nbconvert_exporter": "python",
   "pygments_lexer": "ipython3",
   "version": "3.12.7"
  }
 },
 "nbformat": 4,
 "nbformat_minor": 5
}
