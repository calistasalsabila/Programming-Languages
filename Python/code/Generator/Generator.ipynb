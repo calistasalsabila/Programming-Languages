{
 "cells": [
  {
   "cell_type": "markdown",
   "id": "02a56a6d",
   "metadata": {},
   "source": [
    "##### Generator\n",
    "- objek yang mirip seperti objek iterable\n",
    "- generator tidak memiliki elemen secara langsung seperti objek iterable\n",
    "- untuk mengakses elemen generator perlu mengakses satu satu \n",
    "- lebih efisien dalam menggunakan memori\n",
    "- fungsi generator menggunakan keyword yield yang mengembalikan nilai satu per satu\n",
    "- syntax\n",
    "    - def fungsi_gen(n): #blokkode\n",
    "        - yield value_gen\n",
    "        - yield value_gen"
   ]
  },
  {
   "cell_type": "code",
   "execution_count": 48,
   "id": "7529f865",
   "metadata": {},
   "outputs": [],
   "source": [
    "# example\n",
    "def ex_gen():\n",
    "    yield 1\n",
    "    yield 2\n",
    "    yield 3\n",
    "    yield 4\n",
    "    yield 5"
   ]
  },
  {
   "cell_type": "code",
   "execution_count": 49,
   "id": "5549df18",
   "metadata": {},
   "outputs": [
    {
     "data": {
      "text/plain": [
       "<generator object ex_gen at 0x000001F2F2414510>"
      ]
     },
     "execution_count": 49,
     "metadata": {},
     "output_type": "execute_result"
    }
   ],
   "source": [
    "ex_gen()"
   ]
  },
  {
   "cell_type": "code",
   "execution_count": 50,
   "id": "ef9f0264",
   "metadata": {},
   "outputs": [
    {
     "name": "stdout",
     "output_type": "stream",
     "text": [
      "1\n",
      "2\n",
      "3\n",
      "4\n",
      "5\n"
     ]
    }
   ],
   "source": [
    "for item in ex_gen():\n",
    "    print(item)"
   ]
  },
  {
   "cell_type": "code",
   "execution_count": 51,
   "id": "fab5cf16",
   "metadata": {},
   "outputs": [
    {
     "name": "stdout",
     "output_type": "stream",
     "text": [
      "1\n",
      "2\n"
     ]
    }
   ],
   "source": [
    "# Built in function\n",
    "ex_gen_var = ex_gen() \n",
    "print(next(ex_gen_var)) # ga bisa langsung ex_gen() karena butuh semua itemnya yang di dalam ex_gen()\n",
    "print(next(ex_gen_var))"
   ]
  },
  {
   "cell_type": "code",
   "execution_count": 52,
   "id": "ec186d44",
   "metadata": {},
   "outputs": [
    {
     "data": {
      "text/plain": [
       "1"
      ]
     },
     "execution_count": 52,
     "metadata": {},
     "output_type": "execute_result"
    }
   ],
   "source": [
    "next(ex_gen())"
   ]
  },
  {
   "cell_type": "code",
   "execution_count": null,
   "id": "8d8e73bc",
   "metadata": {},
   "outputs": [],
   "source": [
    "def a_gen(n):\n",
    "    for i in range(n): # ini dari 0 kalo mau 1 ya range(1, n)\n",
    "        yield i # bisa buat i*i dst"
   ]
  },
  {
   "cell_type": "code",
   "execution_count": 54,
   "id": "abe757b0",
   "metadata": {},
   "outputs": [],
   "source": [
    "ai = a_gen(2)"
   ]
  },
  {
   "cell_type": "code",
   "execution_count": 55,
   "id": "84204169",
   "metadata": {},
   "outputs": [
    {
     "data": {
      "text/plain": [
       "<generator object a_gen at 0x000001F2F24402B0>"
      ]
     },
     "execution_count": 55,
     "metadata": {},
     "output_type": "execute_result"
    }
   ],
   "source": [
    "ai"
   ]
  },
  {
   "cell_type": "code",
   "execution_count": 56,
   "id": "b68169bc",
   "metadata": {},
   "outputs": [
    {
     "name": "stdout",
     "output_type": "stream",
     "text": [
      "0\n",
      "1\n"
     ]
    }
   ],
   "source": [
    "for i in ai:\n",
    "    print(i)"
   ]
  },
  {
   "cell_type": "code",
   "execution_count": 57,
   "id": "0aa50c8a",
   "metadata": {},
   "outputs": [
    {
     "name": "stdout",
     "output_type": "stream",
     "text": [
      "[]\n"
     ]
    }
   ],
   "source": [
    "print(list(ai)) #bisa tuple, dst, why kosong? karena udah di buat di for"
   ]
  },
  {
   "cell_type": "code",
   "execution_count": null,
   "id": "6b3a0125",
   "metadata": {},
   "outputs": [
    {
     "name": "stdout",
     "output_type": "stream",
     "text": [
      "[0, 1]\n"
     ]
    }
   ],
   "source": [
    "a2 = a_gen(2) # jadi perlu deklarasi ulang\n",
    "print(list(a2))"
   ]
  },
  {
   "cell_type": "code",
   "execution_count": null,
   "id": "1fa99b24",
   "metadata": {},
   "outputs": [
    {
     "data": {
      "text/plain": [
       "[1, 2, 3]"
      ]
     },
     "execution_count": 47,
     "metadata": {},
     "output_type": "execute_result"
    }
   ],
   "source": [
    "# difrent sama list\n",
    "hm = [1,2,3]\n",
    "hm"
   ]
  },
  {
   "cell_type": "code",
   "execution_count": 3,
   "id": "1963cbc5",
   "metadata": {},
   "outputs": [
    {
     "name": "stdout",
     "output_type": "stream",
     "text": [
      "2\n",
      "3\n",
      "5\n",
      "7\n"
     ]
    }
   ],
   "source": [
    "def is_prima(n):\n",
    "    if n < 2:\n",
    "        return False\n",
    "    for i in range(2, n):\n",
    "        if n % i == 0:\n",
    "            return False\n",
    "    return True\n",
    "\n",
    "def generate_primes(n):\n",
    "    for i in range(2, n+1):\n",
    "        if is_prima(i):\n",
    "            yield i\n",
    "\n",
    "n = 10\n",
    "for prime in generate_primes(n):\n",
    "    print(prime)\n"
   ]
  }
 ],
 "metadata": {
  "kernelspec": {
   "display_name": "base",
   "language": "python",
   "name": "python3"
  },
  "language_info": {
   "codemirror_mode": {
    "name": "ipython",
    "version": 3
   },
   "file_extension": ".py",
   "mimetype": "text/x-python",
   "name": "python",
   "nbconvert_exporter": "python",
   "pygments_lexer": "ipython3",
   "version": "3.12.7"
  }
 },
 "nbformat": 4,
 "nbformat_minor": 5
}
