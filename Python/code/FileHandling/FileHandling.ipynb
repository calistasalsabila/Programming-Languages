{
 "cells": [
  {
   "cell_type": "markdown",
   "metadata": {},
   "source": [
    "##### File Handling \n",
    "- Proses pemrograman yang dilakukan dengan file yang ada di dalam computer\n",
    "- Built in function open()\n",
    "    - Syntax : open(dir/nama_file) atau var = open(nama_file) -> var dengan variable\n",
    "    - Terdapat beberapa parameter mode \n",
    "        - read 'r'      : membaca file\n",
    "        - write 'w'     : menulis file\n",
    "        - append 'a'    : menambahkan ke file\n",
    "        - 'r+'          : read + write\n",
    "    - Terdapat beberapa method\n",
    "        - write()       : menulis file\n",
    "        - read()        : membaca file\n",
    "        - readline()    : membaca baris per baris\n",
    "        - readlines()   : membaca semua baris\n",
    "- Built in function close()\n",
    "    - Wajib menutup file jika menggunakan open() agar tidak terjadi error\n",
    "    - Syntax : file.close() atau var.close()\n",
    "    "
   ]
  },
  {
   "cell_type": "code",
   "execution_count": 70,
   "metadata": {},
   "outputs": [
    {
     "data": {
      "text/plain": [
       "23"
      ]
     },
     "execution_count": 70,
     "metadata": {},
     "output_type": "execute_result"
    }
   ],
   "source": [
    "# Membuat file\n",
    "\n",
    "file = open(\"example.txt\" , mode= 'w')\n",
    "\n",
    "file.write(\"hello\\n\")\n",
    "file.write(\"How are you today guys?\")\n"
   ]
  },
  {
   "cell_type": "code",
   "execution_count": 71,
   "metadata": {},
   "outputs": [],
   "source": [
    "# Menambah isi file\n",
    "file = open(\"example.txt\" , mode= 'a')\n",
    "\n",
    "file.write(\" \\n This is new line\")\n",
    "\n",
    "file.close()"
   ]
  },
  {
   "cell_type": "code",
   "execution_count": 72,
   "metadata": {},
   "outputs": [
    {
     "data": {
      "text/plain": [
       "'hello\\nHow are you today guys? \\n This is new line'"
      ]
     },
     "execution_count": 72,
     "metadata": {},
     "output_type": "execute_result"
    }
   ],
   "source": [
    "# Membaca file \n",
    "file = open(\"example.txt\", mode= 'r')\n",
    "\n",
    "file.read()"
   ]
  },
  {
   "cell_type": "code",
   "execution_count": 73,
   "metadata": {},
   "outputs": [
    {
     "data": {
      "text/plain": [
       "''"
      ]
     },
     "execution_count": 73,
     "metadata": {},
     "output_type": "execute_result"
    }
   ],
   "source": [
    "file.read()"
   ]
  },
  {
   "cell_type": "code",
   "execution_count": 74,
   "metadata": {},
   "outputs": [
    {
     "data": {
      "text/plain": [
       "0"
      ]
     },
     "execution_count": 74,
     "metadata": {},
     "output_type": "execute_result"
    }
   ],
   "source": [
    "file.seek(0)"
   ]
  },
  {
   "cell_type": "code",
   "execution_count": 75,
   "metadata": {},
   "outputs": [
    {
     "name": "stdout",
     "output_type": "stream",
     "text": [
      "hello\n",
      "How are you today guys? \n",
      " This is new line\n"
     ]
    }
   ],
   "source": [
    "contents = file.read()\n",
    "print(contents)"
   ]
  },
  {
   "cell_type": "code",
   "execution_count": 76,
   "metadata": {},
   "outputs": [
    {
     "data": {
      "text/plain": [
       "'hello\\n'"
      ]
     },
     "execution_count": 76,
     "metadata": {},
     "output_type": "execute_result"
    }
   ],
   "source": [
    "file.seek(0)\n",
    "file.readline()"
   ]
  },
  {
   "cell_type": "code",
   "execution_count": 77,
   "metadata": {},
   "outputs": [
    {
     "data": {
      "text/plain": [
       "['How are you today guys? \\n', ' This is new line']"
      ]
     },
     "execution_count": 77,
     "metadata": {},
     "output_type": "execute_result"
    }
   ],
   "source": [
    "file.readlines()"
   ]
  },
  {
   "cell_type": "code",
   "execution_count": 78,
   "metadata": {},
   "outputs": [],
   "source": [
    "# Menutup file\n",
    "file.close()"
   ]
  }
 ],
 "metadata": {
  "kernelspec": {
   "display_name": "base",
   "language": "python",
   "name": "python3"
  },
  "language_info": {
   "codemirror_mode": {
    "name": "ipython",
    "version": 3
   },
   "file_extension": ".py",
   "mimetype": "text/x-python",
   "name": "python",
   "nbconvert_exporter": "python",
   "pygments_lexer": "ipython3",
   "version": "3.12.7"
  }
 },
 "nbformat": 4,
 "nbformat_minor": 2
}
