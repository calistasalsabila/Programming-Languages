{
 "cells": [
  {
   "cell_type": "markdown",
   "metadata": {},
   "source": [
    "##### With Statement\n",
    "- Digunakan untuk mempermudah bekerja dengan objek yang memerlukan setup dan cleanup (context manager).\n",
    "- File adalah salah satu objek yang memerlukan setup dan cleanup   \n",
    "- Setup saat kita membuka dan menulis\n",
    "- Cleanup saat kita menutup file\n",
    "- Syntax :\n",
    "    - with context_manager as alias: #blok kode\n",
    "- Membaca file :\n",
    "    - Syntax:\n",
    "        - with open(dir/'nama_file.txt', 'r) as file: contents = file.read() print(contents)\n",
    "- Dengan with statement tidak perlu menutup file yang sudah kita buka \n",
    "            "
   ]
  },
  {
   "cell_type": "code",
   "execution_count": 86,
   "metadata": {},
   "outputs": [],
   "source": [
    "# File Handling dengan with statement\n",
    "file = open(\"example.txt\", mode= 'w')\n",
    "\n",
    "file.write(\"halo semuaaaa, lgi ngapain :D\")\n",
    "file.close()"
   ]
  },
  {
   "cell_type": "code",
   "execution_count": 87,
   "metadata": {},
   "outputs": [],
   "source": [
    "# Membuat atau menulis file \n",
    "with open(\"example.txt\", mode='w') as file:\n",
    "    file.write(\"Hello guys!\")\n",
    "    # sudah menutup file secara otomatis"
   ]
  },
  {
   "cell_type": "code",
   "execution_count": 88,
   "metadata": {},
   "outputs": [],
   "source": [
    "with open(\"example.txt\", mode='a') as file:\n",
    "    file.write(\"This is newline\")\n"
   ]
  },
  {
   "cell_type": "code",
   "execution_count": 89,
   "metadata": {},
   "outputs": [],
   "source": [
    "# Membaca file\n",
    "with open(\"example.txt\", mode='r') as file:\n",
    "    contents = file.read()"
   ]
  },
  {
   "cell_type": "code",
   "execution_count": 90,
   "metadata": {},
   "outputs": [
    {
     "data": {
      "text/plain": [
       "'Hello guys!This is newline'"
      ]
     },
     "execution_count": 90,
     "metadata": {},
     "output_type": "execute_result"
    }
   ],
   "source": [
    "contents"
   ]
  },
  {
   "cell_type": "code",
   "execution_count": 91,
   "metadata": {},
   "outputs": [],
   "source": [
    "with open(\"example.txt\", mode='r') as file:\n",
    "    contents = file.readlines()"
   ]
  },
  {
   "cell_type": "code",
   "execution_count": 92,
   "metadata": {},
   "outputs": [
    {
     "data": {
      "text/plain": [
       "['Hello guys!This is newline']"
      ]
     },
     "execution_count": 92,
     "metadata": {},
     "output_type": "execute_result"
    }
   ],
   "source": [
    "contents"
   ]
  },
  {
   "cell_type": "code",
   "execution_count": 93,
   "metadata": {},
   "outputs": [],
   "source": [
    "for item in contents:\n",
    "    item = item.upper()\n",
    "    with open(\"example_new.txt\", mode='a') as file:\n",
    "        file.write(item)"
   ]
  }
 ],
 "metadata": {
  "kernelspec": {
   "display_name": "base",
   "language": "python",
   "name": "python3"
  },
  "language_info": {
   "codemirror_mode": {
    "name": "ipython",
    "version": 3
   },
   "file_extension": ".py",
   "mimetype": "text/x-python",
   "name": "python",
   "nbconvert_exporter": "python",
   "pygments_lexer": "ipython3",
   "version": "3.12.7"
  }
 },
 "nbformat": 4,
 "nbformat_minor": 2
}
